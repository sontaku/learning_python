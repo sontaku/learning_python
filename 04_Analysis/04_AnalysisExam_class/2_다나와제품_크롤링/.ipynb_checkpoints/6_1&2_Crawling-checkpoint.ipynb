{
 "cells": [
  {
   "cell_type": "markdown",
   "metadata": {},
   "source": [
    "# 6.1  데이터 수집 1 – 한 페이지 크롤링"
   ]
  },
  {
   "cell_type": "markdown",
   "metadata": {},
   "source": [
    "### 6.1.2 다나와 검색 페이지 접속"
   ]
  },
  {
   "cell_type": "code",
   "execution_count": 3,
   "metadata": {},
   "outputs": [
    {
     "name": "stdout",
     "output_type": "stream",
     "text": [
      "Requirement already satisfied: selenium in c:\\users\\simmi\\anaconda3\\lib\\site-packages (3.141.0)\n",
      "Requirement already satisfied: urllib3 in c:\\users\\simmi\\anaconda3\\lib\\site-packages (from selenium) (1.24.2)\n"
     ]
    }
   ],
   "source": [
    "# !pip install selenium\n",
    "\n",
    "# 크롬버전을 맞춰서  다운받아야 한다"
   ]
  },
  {
   "cell_type": "code",
   "execution_count": 5,
   "metadata": {
    "scrolled": true
   },
   "outputs": [],
   "source": [
    "# 예제 6-1 selenium으로 다나와 검색 결과 URL에 접속\n",
    "from selenium import webdriver\n",
    "driver = webdriver.Chrome('D:/MyClass/Python/sample/실무파이썬/4_Jeju_Hotplace/webdriver/chromedriver.exe')\n",
    "url = \"http://search.danawa.com/dsearch.php?query=무선청소기&tab=main\"\n",
    "driver.get(url)"
   ]
  },
  {
   "cell_type": "markdown",
   "metadata": {},
   "source": [
    "### 6.1.3 다나와 검색 웹 페이지에서 상품 정보 가져오기"
   ]
  },
  {
   "cell_type": "code",
   "execution_count": 6,
   "metadata": {},
   "outputs": [],
   "source": [
    "from bs4 import BeautifulSoup\n",
    "\n",
    "#예제 6-2 웹 페이지의 HTML 정보 가져오기\n",
    "html = driver.page_source\n",
    "soup = BeautifulSoup(html, 'html.parser')"
   ]
  },
  {
   "cell_type": "code",
   "execution_count": 7,
   "metadata": {},
   "outputs": [
    {
     "data": {
      "text/plain": [
       "38"
      ]
     },
     "execution_count": 7,
     "metadata": {},
     "output_type": "execute_result"
    }
   ],
   "source": [
    "# 예제 6-3 1페이지에 대한 무선청소기 정보 가져오기 1\n",
    "prod_items = soup.select('li.prod_item')\n",
    "len(prod_items)"
   ]
  },
  {
   "cell_type": "code",
   "execution_count": 8,
   "metadata": {
    "scrolled": true
   },
   "outputs": [
    {
     "data": {
      "text/plain": [
       "38"
      ]
     },
     "execution_count": 8,
     "metadata": {},
     "output_type": "execute_result"
    }
   ],
   "source": [
    "# 예제 6-4 1페이지에 대한 무선청소기 정보 가져오기 2\n",
    "prod_items = soup.select('ul.product_list > li.prod_item')\n",
    "len(prod_items)"
   ]
  },
  {
   "cell_type": "code",
   "execution_count": 9,
   "metadata": {},
   "outputs": [
    {
     "data": {
      "text/plain": [
       "30"
      ]
     },
     "execution_count": 9,
     "metadata": {},
     "output_type": "execute_result"
    }
   ],
   "source": [
    "# 예제 6-5 1페이지에 대한 무선청소기 정보 가져오기 3\n",
    "prod_items = soup.select('div.main_prodlist > ul.product_list > li.prod_item')\n",
    "len(prod_items)"
   ]
  },
  {
   "cell_type": "code",
   "execution_count": 10,
   "metadata": {},
   "outputs": [
    {
     "name": "stdout",
     "output_type": "stream",
     "text": [
      "델로라 V11 파워 300W\n"
     ]
    }
   ],
   "source": [
    "# 예제 6-6 상품명 정보 가져오기\n",
    "title = prod_items[0].select('p.prod_name > a')[0].text.strip()\n",
    "print(title)"
   ]
  },
  {
   "cell_type": "code",
   "execution_count": 11,
   "metadata": {},
   "outputs": [
    {
     "name": "stdout",
     "output_type": "stream",
     "text": [
      "핸디/스틱청소기 / 핸디+스틱형 / 무선형 / 전압: 29.6V / 헤파필터 / 싸이클론 / 4단계여과 / BLDC모터 / 흡입력: 22000Pa / 먼지통용량: 0.6L / 충전시간: 5시간 / 사용시간: 1시간10분 / 배터리: 리튬이온 / 용량: 2500mAh / 브러쉬: 바닥, 솔형, 틈새, 침구, 연장관 / LED라이트 / 거치대 / 무게: 3.89kg / 색상:레드, 블랙 / 소비전력: 300W / 크기(가로x세로x깊이): 239x1255x105mm\n"
     ]
    }
   ],
   "source": [
    "# 예제 6-7 스펙 목록 정보 가져오기\n",
    "spec_list = prod_items[0].select('div.spec_list')[0].text.strip()\n",
    "print(spec_list)"
   ]
  },
  {
   "cell_type": "code",
   "execution_count": 12,
   "metadata": {},
   "outputs": [
    {
     "name": "stdout",
     "output_type": "stream",
     "text": [
      "139000\n"
     ]
    }
   ],
   "source": [
    "# 예제 6-8 가격 정보 가져오기\n",
    "price = prod_items[0].select('li.rank_one > p.price_sect > a > strong')[0].text.strip().replace(\",\",\"\")\n",
    "print(price)"
   ]
  },
  {
   "cell_type": "code",
   "execution_count": 13,
   "metadata": {},
   "outputs": [
    {
     "name": "stdout",
     "output_type": "stream",
     "text": [
      "30\n",
      "[['델로라 V11 파워 300W', '핸디/스틱청소기 / 핸디+스틱형 / 무선형 / 전압: 29.6V / 헤파필터 / 싸이클론 / 4단계여과 / BLDC모터 / 흡입력: 22000Pa / 먼지통용량: 0.6L / 충전시간: 5시간 / 사용시간: 1시간10분 / 배터리: 리튬이온 / 용량: 2500mAh / 브러쉬: 바닥, 솔형, 틈새, 침구, 연장관 / LED라이트 / 거치대 / 무게: 3.89kg / 색상:레드, 블랙 / 소비전력: 300W / 크기(가로x세로x깊이): 239x1255x105mm', '139000'], ['원더스리빙 다이나킹 Z9', '핸디/스틱청소기 / 핸디+스틱형 / 무선형 / 전압: 28.8V / 헤파필터 / 듀얼싸이클론 / 6단계여과 / BLDC모터 / 흡입력: 160AW / 흡입력: 22000Pa / 먼지통용량: 0.7L / 충전시간: 4시간30분 / 사용시간: 1시간5분 / 배터리: 리튬이온 / 용량: 2500mAh / 거치대 / 배터리잔량표시 / 셀프스탠딩 / 프리볼트 / 무게: 2.5kg / 소비전력: 450W / 브러쉬: 바닥, 펫, 멀티, 틈새, 솔형, 침구, 연장호스, 플렉스연장관 / 크기(가로x세로x깊이): 250x1096x198mm', '299000'], ['샤오미 드리미 V10', '핸디/스틱청소기 / 핸디+스틱형 / 무선형 / 전압: 25.2V / 헤파필터 / H12급 / 5단계여과 / 흡입력: 140AW / 흡입력: 22000Pa / 먼지통용량: 0.5L / 충전시간: 3시간30분 / 사용시간: 1시간 / 용량: 2500mAh / 브러쉬: 바닥, 솔형, 틈새, 침구, 연장관 / 거치대 / 무게: 1.5kg / 색상:화이트 / 소비전력: 450W', '181100'], ['샤오미 SHUNZAO 차량용 무선청소기 2세대 Z1 PRO (해외구매)', '차량용청소기 / 무선 / 흡입력: 12,000Pa / 최대출력: 120W / 2중필터 / 추가노즐: 틈새, 솔브러쉬 / LED라이트 / 사용시간: 30분 / 충전시간: 2시간30분 / 크기: 73x76x336mm / 무게: 610g / 충전방식: USB C타입', '42900'], ['LG전자 코드제로 A9 A978', '핸디/스틱청소기 / 핸디+스틱형 / 무선형 / 헤파필터 / 2중터보싸이클론 / 5단계여과 / 인버터모터 / 흡입력: 140W / 충전시간: 3시간30분 / 사용시간: 80분 / 배터리: 리튬이온 (2개) / 브러쉬: 바닥, 솔형, 틈새, 침구, 매트리스, 물걸레 / 거치대 / 물걸레 / 색상:판타지실버 / 소비전력: 450W / 3단계물분사조절 / 크기(가로x세로x깊이): 260x1120x270mm', '904900'], ['다이슨 V11 220 에어와트 CF+', '핸디/스틱청소기 / 핸디+스틱형 / 무선형 / 싸이클론 / 6단계여과 / 흡입력: 220AW / 먼지통용량: 0.54L / 충전시간: 4시간30분 / 사용시간: 60분 / 거치대 / 도킹스테이션 / 디스플레이표시창 / 무게: 2.95kg / 브러쉬: 소프트롤러클리너헤드, 하이토크클리너헤드, 콤비네이션툴, 크레비스툴, 미니모터툴, 미니소프트더스팅브러쉬, 매트리스툴, 스터번더트브러쉬 / 크기(가로x세로x깊이): 250x1280x261mm', '888720'], ['샤오미 SHUNZAO Z11 PRO', '핸디/스틱청소기 / 핸디+스틱형 / 무선형 / 전압: 25.2V / 헤파필터 / 싸이클론 / 5단계여과 / 인버터모터 / 흡입력: 150AW / 흡입력: 26000Pa / 먼지통용량: 0.5L / 충전시간: 3시간 / 사용시간: 1시간 / 용량: 2500mAh / 브러쉬: 바닥, 솔형, 틈새, 침구, 연장관 / 거치대 / 디스플레이표시창 / 배터리잔량표시 / 색상:화이트, 레드', '171600'], ['삼성전자 제트 VS20R9078S2', '핸디/스틱청소기 / 핸디+스틱형 / 무선형 / 전압: 21.9V / 헤파필터 / 싸이클론 / 5단계여과 / 인버터모터 / 흡입력: 200W / 먼지통용량: 0.5L / 충전시간: 3시간30분 / 사용시간: 120분 / 배터리: 리튬이온 (2개) / 브러쉬: 바닥, 솔형, 틈새, 침구, 물걸레, 연장관 / 거치대 / 디스플레이표시창 / 물걸레 / 프리볼트 / 무게: 2.7kg / 색상:티탄+블루 / 소비전력: 550W / 알레르기인증(BAF) / 미세먼지인증(SLG) / 크기(가로x세로x깊이): 250x1136x215mm', '802010'], ['LG전자 코드제로 A9 A951', '핸디/스틱청소기 / 핸디+스틱형 / 무선형 / 헤파필터 / 2중터보싸이클론 / 5단계여과 / 인버터모터 / 흡입력: 140W / 충전시간: 3시간30분 / 사용시간: 80분 / 배터리: 리튬이온 (2개) / 브러쉬: 바닥, 솔형, 틈새, 침구, 매트리스, 물걸레 / 거치대 / 물걸레 / 색상:판타지실버 / 소비전력: 450W / 알레르기인증(BAF) / 미세먼지인증(SLG) / 3단계물분사조절 / 크기(가로x세로x깊이): 260x1120x270mm', '835420'], ['다이슨 V8 플러피', '핸디/스틱청소기 / 핸디+스틱형 / 무선형 / 전압: 21.6V / 싸이클론 / 흡입력: 155AW / 충전시간: 5시간 / 사용시간: 40분 / 배터리: 리튬이온 / 도킹스테이션 / 무게: 2.58kg / 브러쉬: 소프트롤러클리너헤드, 미니모터, 소프트더스팅, 콤비네이션툴, 크레비스툴, 매트리스툴, 연장호스 / 크기(가로x세로x깊이): 250x1264x224mm', '416920'], ['샤오미 SHUNZAO 차량용 무선청소기 2세대 Z1 (해외구매)', '차량용청소기 / 무선 / 흡입력: 7,000Pa / 최대출력: 90W / 2중필터 / 추가노즐: 틈새, 솔브러쉬 / LED라이트 / 사용시간: 30분 / 충전시간: 2시간30분 / 크기: 73x76x336mm / 무게: 700g / 충전방식: USB C타입', '22410'], ['휴스톰 HS-10000', '물걸레청소기 / 스틱형 / 물걸레전용 / 회전식 / 무선형 / 전압: 14.6V / 충전시간: 2시간30분 / 사용시간: 30분 / 배터리: 리튬이온 / 용량: 2750mAh / LED라이트 / 가구손상방지 / 각도조절 / 셀프스탠딩 / 배터리잔량표시 / 프리볼트 / 무게: 3.7kg / 색상:블랙 / 모터과열방지 / 과충전방지 / 오토스토핑 / 패드: 극세사(벨크로형) / 크기(가로x세로x깊이): 410x1180x205mm', '143690'], ['LG전자 코드제로 A9 A938', '핸디/스틱청소기 / 핸디+스틱형 / 무선형 / 헤파필터 / 2중터보싸이클론 / 5단계여과 / 인버터모터 / 흡입력: 140W / 충전시간: 3시간30분 / 사용시간: 40분 / 배터리: 리튬이온 / 브러쉬: 바닥, 솔형, 틈새, 매트리스 / 거치대 / 무게: 2.7kg / 색상:판타지실버 / 소비전력: 450W / 크기(가로x세로x깊이): 260x1120x270mm', '615210'], ['일렉트로룩스 ZB3302AK', '핸디/스틱청소기 / 핸디+스틱형 / 무선형 / 전압: 14.4V / 4단계여과 / 충전시간: 4시간 / 사용시간: 42분 / 배터리: 리튬이온 / LED라이트 / 배터리잔량표시 / 브러쉬자동청소 / 셀프스탠딩 / 무게: 3.22kg / 알레르기인증(BAF) / 브러쉬: 바닥, 미니침구, 소파용, 긴틈새, 2in1 / 크기(가로x세로x깊이): 303x690x162mm', '140520'], ['LG전자 코드제로 A9 A948', '핸디/스틱청소기 / 핸디+스틱형 / 무선형 / 헤파필터 / 2중터보싸이클론 / 5단계여과 / 인버터모터 / 흡입력: 140W / 충전시간: 3시간30분 / 사용시간: 80분 / 배터리: 리튬이온 (2개) / 브러쉬: 바닥, 솔형, 틈새, 매트리스 / 거치대 / 무게: 2.7kg / 색상:판타지실버 / 소비전력: 450W / 크기(가로x세로x깊이): 260x1120x270mm', '699080'], ['LG전자 코드제로 A9 A958', '핸디/스틱청소기 / 핸디+스틱형 / 무선형 / 헤파필터 / 2중터보싸이클론 / 5단계여과 / 인버터모터 / 흡입력: 140W / 충전시간: 3시간30분 / 사용시간: 80분 / 배터리: 리튬이온 (2개) / 브러쉬: 바닥, 솔형, 틈새, 침구, 매트리스 / 거치대 / 무게: 2.7kg / 색상:판타지실버 / 소비전력: 450W / 크기(가로x세로x깊이): 260x1120x270mm', '766690'], ['카렉스 파워스톰 미니 무선청소기', '차량용청소기 / 무선 / 흡입력: 12,000Pa / 2중필터 / 헤파필터 / 추가노즐: 틈새, 솔브러쉬 / 사용시간: 17분 / 충전시간: 5시간30분 / 크기: 93x439mm / 무게: 505g / 충전방식: 시거잭, 220V / BLCD모터', '81140'], ['샤오미 SHUNZAO Z11', '핸디/스틱청소기 / 핸디+스틱형 / 무선형 / 전압: 25.2V / 헤파필터 / 싸이클론 / 5단계여과 / 흡입력: 150AW / 흡입력: 26000Pa / 먼지통용량: 0.5L / 충전시간: 3시간 / 사용시간: 1시간 / 배터리: 리튬이온 / 용량: 2500mAh / 브러쉬: 바닥, 솔형, 틈새, 침구, 연장관 / 거치대 / 디스플레이표시창 / 배터리잔량표시 / 색상:화이트', '146760'], ['DIBEA D18', '핸디/스틱청소기 / 핸디+스틱형 / 무선형 / 전압: 22.2V / 헤파필터 / H13급 / 싸이클론 / 3단계여과 / 흡입력: 9000Pa / 먼지통용량: 0.55L / 충전시간: 4~5시간 / 사용시간: 45분 / 배터리: 리튬이온 / 용량: 2200mAh / 브러쉬: 바닥, 솔형, 틈새, 연장관 / LED라이트 / 거치대 / 배터리잔량표시 / 프리볼트 / 무게: 2.2kg / 소비전력: 120W / 크기(가로x세로x깊이): 240x1040x210mm', '68970'], ['삼성전자 제트 VS19R1004BF', '핸디/스틱청소기 / 핸디+스틱형 / 무선형 / 전압: 21.6V / 헤파필터 / 싸이클론 / 5단계여과 / 인버터모터 / 흡입력: 150W / 먼지통용량: 0.5L / 충전시간: 3시간30분 / 사용시간: 40분 / 배터리: 리튬이온 / 브러쉬: 바닥, 솔형, 틈새 / 거치대 / 디스플레이표시창 / 프리볼트 / 무게: 2.6kg / 색상:민트 / 소비전력: 410W / 알레르기인증(BAF) / 미세먼지인증(SLG) / 크기(가로x세로x깊이): 250x1123x215mm', '459110'], ['샤오미 SWDK-D260', '물걸레청소기 / 스틱형 / 물걸레전용 / 왕복식 / 무선형 / 전압: 12.6V / 충전시간: 3시간 / 사용시간: 50분 / 배터리: 리튬이온 / 용량: 2000mAh / 물분사 / LED라이트 / 프리볼트 / 무게: 2.4kg / 색상:화이트 / 110V / 변환어댑터: 필요', '74640'], ['샤오미 드리미 V9', '핸디/스틱청소기 / 핸디+스틱형 / 무선형 / 전압: 25.2V / 헤파필터 / 싸이클론 / 5단계여과 / 흡입력: 120AW / 흡입력: 20000Pa / 먼지통용량: 0.5L / 충전시간: 3시간30분 / 사용시간: 60분 / 용량: 2500mAh / 브러쉬: 바닥, 솔형, 틈새, 침구, 연장관 / 거치대 / 무게: 1.5kg / 색상:화이트 / 소비전력: 400W', '139200'], ['삼성전자 제트 VS20R9043SA', '핸디/스틱청소기 / 핸디+스틱형 / 무선형 / 전압: 21.9V / 헤파필터 / 싸이클론 / 5단계여과 / 인버터모터 / 흡입력: 200W / 먼지통용량: 0.5L / 충전시간: 3시간30분 / 사용시간: 60분 / 배터리: 리튬이온 / 브러쉬: 바닥, 솔형, 틈새, 연장관 / 거치대 / 디스플레이표시창 / 프리볼트 / 무게: 2.7kg / 색상:실버핑크 / 소비전력: 550W / 알레르기인증(BAF) / 미세먼지인증(SLG) / 크기(가로x세로x깊이): 250x1136x215mm', '640610'], ['델첸 퍼스널 무선 미니 차량용 핸디청소기 DC-C01', '차량용청소기 / 무선 / 흡입력: 6,200Pa / 최대출력: 70W / 2중필터 / 헤파필터 / 추가노즐: 틈새, 솔브러쉬 / 사용시간: 18분 / 충전시간: 1시간30분~2시간 / 크기: 73x305mm / 무게: 703g / 충전방식: USB C타입', '59000'], ['LG전자 코드제로 A9 A947', '핸디/스틱청소기 / 핸디+스틱형 / 무선형 / 헤파필터 / 2중터보싸이클론 / 5단계여과 / 흡입력: 140W / 충전시간: 3시간30분 / 사용시간: 80분 / 배터리: 리튬이온 (2개) / 브러쉬: 바닥, 물걸레 / 거치대 / 물걸레 / 색상:판타지실버 / 소비전력: 450W / 3단계물분사조절 / 크기(가로x세로x깊이): 272x1120x151mm', '835600'], ['무궁화전자 바로바로 MC-B250', '핸디/스틱청소기 / 핸디+스틱형 / 무선형 / 전압: 10.8V / 흡입력: 60W / 충전시간: 8시간 / 사용시간: 20분 / 배터리: 니켈수소 / 브러쉬: 바닥, 틈새, 연장관 / 거치대 / 무게: 1.3kg / 크기(가로x세로x깊이): 144x387x136mm', '37630'], ['샤오미 로이드미 제로', '핸디/스틱청소기 / 핸디+스틱형 / 무선형 / 헤파필터 / H12급 / 싸이클론 / BLDC모터 / 흡입력: 120AW / 흡입력: 22000Pa / 먼지통용량: 0.65L / 충전시간: 3시간 / 사용시간: 1시간 / 용량: 2500mAh / 브러쉬: 바닥, 솔형, 틈새, 침구, 연장관 / 거치대 / 프리볼트 / 무게: 1.55kg / 색상:라벤더 / 소비전력: 335W / 크기(가로x세로): 221x1191mm', '119950'], ['삼에스 ALWAYS CLEAN 차량용 무선 청소기', '차량용청소기 / 무선 / 흡입력: 4,800Pa / 2중필터 / 헤파필터 / 추가노즐: 틈새, 솔브러쉬, 연장호스 / 사용시간: 20분 / 충전시간: 3시간 / 크기: 72x280mm / 에어건기능 / 충전방식: USB C타입 / 색상: 블랙, 레드, 그레이', '60400'], ['일렉트로룩스 퓨어 Q9 PQ91-2OG', '핸디/스틱청소기 / 핸디+스틱형 / 무선형 / 전압: 21.6V / 싸이클론 / 5단계여과 / 먼지통용량: 0.3L / 충전시간: 3시간30분 / 사용시간: 50분 / 배터리: 리튬이온 / 브러쉬: 바닥, 솔형, 틈새 / LED라이트 / 거치대 / 브러쉬자동청소 / 셀프스탠딩 / 무게: 2.7kg / 색상:그라나이트그레이 / 크기(가로x세로x깊이): 234x1056x163mm', '289360'], ['다이슨 V8 슬림 플러피+', '핸디/스틱청소기 / 핸디+스틱형 / 무선형 / 싸이클론 / 충전시간: 5시간 / 사용시간: 40분 / 도킹스테이션 / 무게: 2.15kg / 색상:레드 / 브러쉬: 슬림소프트롤러헤드, 라이트파이프크레비스툴, 콤비네이션툴, 미니모터툴, 미니소프트더스팅브러쉬, 매트리스툴 / 크기(가로x세로x깊이): 250x1284x220mm', '547200']]\n"
     ]
    }
   ],
   "source": [
    "# 예제 6-9 반복문으로 검색 결과의 1페이지에 대한 상품 정보 추출\n",
    "prod_data = []\n",
    "for prod_item in prod_items:\n",
    "    try: # ① 상품명 가져오기\n",
    "        title = prod_item.select('p.prod_name > a')[0].text.strip()\n",
    "    except:\n",
    "        title = ''\n",
    "    try: # ② 스펙 목록 가져오기\n",
    "        spec_list = prod_item.select('div.spec_list')[0].text.strip()\n",
    "    except:\n",
    "        spec_list = ''\n",
    "    try: # ③ 가격 정보 가져오기 \n",
    "        price = prod_item.select('li.rank_one > p.price_sect > a > strong')[0].text.strip().replace(\",\",\"\")\n",
    "    except:\n",
    "        price = 0\n",
    "    prod_data.append([title, spec_list, price])\n",
    "print(len(prod_data))\n",
    "print(prod_data)"
   ]
  },
  {
   "cell_type": "code",
   "execution_count": 14,
   "metadata": {},
   "outputs": [],
   "source": [
    "# 예제 6-10 상품 정보 태그에서 원하는 정보를 추출하는 함수\n",
    "def get_prod_items(prod_items):\n",
    "    prod_data = []\n",
    "    for prod_item in prod_items:\n",
    "         # ① 상품명 가져오기\n",
    "        try:\n",
    "            title = prod_item.select('p.prod_name > a')[0].text.strip()\n",
    "        except:\n",
    "            title = ''\n",
    "        # ② 스펙 목록 가져오기\n",
    "        try: \n",
    "            spec_list = prod_item.select('div.spec_list')[0].text.strip()\n",
    "        except:\n",
    "            spec_list = ''\n",
    "        # ③ 가격 정보 가져오기 \n",
    "        try: \n",
    "            price = int(prod_item.select('li.rank_one > p.price_sect > a > strong')[0].text.strip().replace(\",\",\"\"))\n",
    "        except:\n",
    "            price = 0\n",
    "        prod_data.append([title, spec_list, price])\n",
    "    return prod_data"
   ]
  },
  {
   "cell_type": "code",
   "execution_count": 15,
   "metadata": {},
   "outputs": [
    {
     "name": "stdout",
     "output_type": "stream",
     "text": [
      "30\n"
     ]
    }
   ],
   "source": [
    "# 예제 6-11 상품 정보를 가져오는 함수 테스트\n",
    "prod_items = soup.select('div.main_prodlist > ul.product_list > li.prod_item')\n",
    "prod_data = get_prod_items(prod_items)\n",
    "print(len(prod_data))"
   ]
  },
  {
   "cell_type": "markdown",
   "metadata": {},
   "source": [
    "# 6.2  데이터 수집 2 - 여러 페이지에 걸친 다나와 검색 페이지 크롤링"
   ]
  },
  {
   "cell_type": "markdown",
   "metadata": {},
   "source": [
    "### 6.2.1 다나와 검색 결과 페이지 URL 분석"
   ]
  },
  {
   "cell_type": "code",
   "execution_count": 16,
   "metadata": {},
   "outputs": [
    {
     "name": "stdout",
     "output_type": "stream",
     "text": [
      "http://search.danawa.com/dsearch.php?query=무선청소기&volumeType=allvs&page=1&limit=30&sort=saveDESC&list=list&boost=true&addDelivery=N&tab=goods&tab=goods\n"
     ]
    }
   ],
   "source": [
    "# 예제 6-12 다나와 검색 URL을 만들어주는 함수 \n",
    "def get_search_page_url(keyword, page):\n",
    "    return 'http://search.danawa.com/dsearch.php?query={}&volumeType=allvs&page={}&limit=30&sort=saveDESC&list=list&boost=true&addDelivery=N&tab=goods&tab=goods'.format(keyword, page)\n",
    "\n",
    "keyword = '무선청소기'\n",
    "page = 1\n",
    "url = get_search_page_url(keyword, page)\n",
    "print(url)\n"
   ]
  },
  {
   "cell_type": "markdown",
   "metadata": {},
   "source": [
    "### 6.2.2 주피터 노트북의 진행표시줄 처리 "
   ]
  },
  {
   "cell_type": "code",
   "execution_count": 17,
   "metadata": {},
   "outputs": [
    {
     "name": "stdout",
     "output_type": "stream",
     "text": [
      "Requirement already satisfied: tqdm in c:\\users\\simmi\\anaconda3\\lib\\site-packages (4.36.1)\n"
     ]
    }
   ],
   "source": [
    "# 예제 6-13 tqdm 라이브러리 설치 \n",
    "! pip install tqdm"
   ]
  },
  {
   "cell_type": "code",
   "execution_count": 18,
   "metadata": {},
   "outputs": [
    {
     "data": {
      "application/vnd.jupyter.widget-view+json": {
       "model_id": "47e0e3a7a8234ecaa6d856216e33df2e",
       "version_major": 2,
       "version_minor": 0
      },
      "text/plain": [
       "HBox(children=(IntProgress(value=0, max=10), HTML(value='')))"
      ]
     },
     "metadata": {},
     "output_type": "display_data"
    },
    {
     "name": "stdout",
     "output_type": "stream",
     "text": [
      "\n"
     ]
    }
   ],
   "source": [
    "# 예제 6-14 tqdm 사용법 \n",
    "import time\n",
    "from tqdm import tqdm_notebook\n",
    "total_page = 10\n",
    "for page in tqdm_notebook(range(1, total_page + 1)):\n",
    "    # 페이지가 로딩 완료되기 위한 시간을 5초로 준다. \n",
    "    time.sleep(5)"
   ]
  },
  {
   "cell_type": "markdown",
   "metadata": {},
   "source": [
    "### 6.2.3 여러 페이지에 걸친 상품 정보 수집"
   ]
  },
  {
   "cell_type": "code",
   "execution_count": 19,
   "metadata": {},
   "outputs": [
    {
     "ename": "WebDriverException",
     "evalue": "Message: 'chromedriver.exe' executable needs to be in PATH. Please see https://sites.google.com/a/chromium.org/chromedriver/home\n",
     "output_type": "error",
     "traceback": [
      "\u001b[1;31m---------------------------------------------------------------------------\u001b[0m",
      "\u001b[1;31mFileNotFoundError\u001b[0m                         Traceback (most recent call last)",
      "\u001b[1;32m~\\Anaconda3\\lib\\site-packages\\selenium\\webdriver\\common\\service.py\u001b[0m in \u001b[0;36mstart\u001b[1;34m(self)\u001b[0m\n\u001b[0;32m     75\u001b[0m                                             \u001b[0mstderr\u001b[0m\u001b[1;33m=\u001b[0m\u001b[0mself\u001b[0m\u001b[1;33m.\u001b[0m\u001b[0mlog_file\u001b[0m\u001b[1;33m,\u001b[0m\u001b[1;33m\u001b[0m\u001b[1;33m\u001b[0m\u001b[0m\n\u001b[1;32m---> 76\u001b[1;33m                                             stdin=PIPE)\n\u001b[0m\u001b[0;32m     77\u001b[0m         \u001b[1;32mexcept\u001b[0m \u001b[0mTypeError\u001b[0m\u001b[1;33m:\u001b[0m\u001b[1;33m\u001b[0m\u001b[1;33m\u001b[0m\u001b[0m\n",
      "\u001b[1;32m~\\Anaconda3\\lib\\subprocess.py\u001b[0m in \u001b[0;36m__init__\u001b[1;34m(self, args, bufsize, executable, stdin, stdout, stderr, preexec_fn, close_fds, shell, cwd, env, universal_newlines, startupinfo, creationflags, restore_signals, start_new_session, pass_fds, encoding, errors, text)\u001b[0m\n\u001b[0;32m    774\u001b[0m                                 \u001b[0merrread\u001b[0m\u001b[1;33m,\u001b[0m \u001b[0merrwrite\u001b[0m\u001b[1;33m,\u001b[0m\u001b[1;33m\u001b[0m\u001b[1;33m\u001b[0m\u001b[0m\n\u001b[1;32m--> 775\u001b[1;33m                                 restore_signals, start_new_session)\n\u001b[0m\u001b[0;32m    776\u001b[0m         \u001b[1;32mexcept\u001b[0m\u001b[1;33m:\u001b[0m\u001b[1;33m\u001b[0m\u001b[1;33m\u001b[0m\u001b[0m\n",
      "\u001b[1;32m~\\Anaconda3\\lib\\subprocess.py\u001b[0m in \u001b[0;36m_execute_child\u001b[1;34m(self, args, executable, preexec_fn, close_fds, pass_fds, cwd, env, startupinfo, creationflags, shell, p2cread, p2cwrite, c2pread, c2pwrite, errread, errwrite, unused_restore_signals, unused_start_new_session)\u001b[0m\n\u001b[0;32m   1177\u001b[0m                                          \u001b[0mos\u001b[0m\u001b[1;33m.\u001b[0m\u001b[0mfspath\u001b[0m\u001b[1;33m(\u001b[0m\u001b[0mcwd\u001b[0m\u001b[1;33m)\u001b[0m \u001b[1;32mif\u001b[0m \u001b[0mcwd\u001b[0m \u001b[1;32mis\u001b[0m \u001b[1;32mnot\u001b[0m \u001b[1;32mNone\u001b[0m \u001b[1;32melse\u001b[0m \u001b[1;32mNone\u001b[0m\u001b[1;33m,\u001b[0m\u001b[1;33m\u001b[0m\u001b[1;33m\u001b[0m\u001b[0m\n\u001b[1;32m-> 1178\u001b[1;33m                                          startupinfo)\n\u001b[0m\u001b[0;32m   1179\u001b[0m             \u001b[1;32mfinally\u001b[0m\u001b[1;33m:\u001b[0m\u001b[1;33m\u001b[0m\u001b[1;33m\u001b[0m\u001b[0m\n",
      "\u001b[1;31mFileNotFoundError\u001b[0m: [WinError 2] 지정된 파일을 찾을 수 없습니다",
      "\nDuring handling of the above exception, another exception occurred:\n",
      "\u001b[1;31mWebDriverException\u001b[0m                        Traceback (most recent call last)",
      "\u001b[1;32m<ipython-input-19-1688613d57d4>\u001b[0m in \u001b[0;36m<module>\u001b[1;34m\u001b[0m\n\u001b[0;32m      4\u001b[0m \u001b[1;32mfrom\u001b[0m \u001b[0mbs4\u001b[0m \u001b[1;32mimport\u001b[0m \u001b[0mBeautifulSoup\u001b[0m\u001b[1;33m\u001b[0m\u001b[1;33m\u001b[0m\u001b[0m\n\u001b[0;32m      5\u001b[0m \u001b[1;32mfrom\u001b[0m \u001b[0mtqdm\u001b[0m \u001b[1;32mimport\u001b[0m \u001b[0mtqdm_notebook\u001b[0m\u001b[1;33m\u001b[0m\u001b[1;33m\u001b[0m\u001b[0m\n\u001b[1;32m----> 6\u001b[1;33m \u001b[0mdriver\u001b[0m \u001b[1;33m=\u001b[0m \u001b[0mwebdriver\u001b[0m\u001b[1;33m.\u001b[0m\u001b[0mChrome\u001b[0m\u001b[1;33m(\u001b[0m\u001b[1;34m'c:/playwithdata/chromedriver.exe'\u001b[0m\u001b[1;33m)\u001b[0m\u001b[1;33m\u001b[0m\u001b[1;33m\u001b[0m\u001b[0m\n\u001b[0m\u001b[0;32m      7\u001b[0m \u001b[1;33m\u001b[0m\u001b[0m\n\u001b[0;32m      8\u001b[0m \u001b[1;31m# 암묵적으로 웹 자원 로드를 위해 3초까지 기다림\u001b[0m\u001b[1;33m\u001b[0m\u001b[1;33m\u001b[0m\u001b[1;33m\u001b[0m\u001b[0m\n",
      "\u001b[1;32m~\\Anaconda3\\lib\\site-packages\\selenium\\webdriver\\chrome\\webdriver.py\u001b[0m in \u001b[0;36m__init__\u001b[1;34m(self, executable_path, port, options, service_args, desired_capabilities, service_log_path, chrome_options, keep_alive)\u001b[0m\n\u001b[0;32m     71\u001b[0m             \u001b[0mservice_args\u001b[0m\u001b[1;33m=\u001b[0m\u001b[0mservice_args\u001b[0m\u001b[1;33m,\u001b[0m\u001b[1;33m\u001b[0m\u001b[1;33m\u001b[0m\u001b[0m\n\u001b[0;32m     72\u001b[0m             log_path=service_log_path)\n\u001b[1;32m---> 73\u001b[1;33m         \u001b[0mself\u001b[0m\u001b[1;33m.\u001b[0m\u001b[0mservice\u001b[0m\u001b[1;33m.\u001b[0m\u001b[0mstart\u001b[0m\u001b[1;33m(\u001b[0m\u001b[1;33m)\u001b[0m\u001b[1;33m\u001b[0m\u001b[1;33m\u001b[0m\u001b[0m\n\u001b[0m\u001b[0;32m     74\u001b[0m \u001b[1;33m\u001b[0m\u001b[0m\n\u001b[0;32m     75\u001b[0m         \u001b[1;32mtry\u001b[0m\u001b[1;33m:\u001b[0m\u001b[1;33m\u001b[0m\u001b[1;33m\u001b[0m\u001b[0m\n",
      "\u001b[1;32m~\\Anaconda3\\lib\\site-packages\\selenium\\webdriver\\common\\service.py\u001b[0m in \u001b[0;36mstart\u001b[1;34m(self)\u001b[0m\n\u001b[0;32m     81\u001b[0m                 raise WebDriverException(\n\u001b[0;32m     82\u001b[0m                     \"'%s' executable needs to be in PATH. %s\" % (\n\u001b[1;32m---> 83\u001b[1;33m                         os.path.basename(self.path), self.start_error_message)\n\u001b[0m\u001b[0;32m     84\u001b[0m                 )\n\u001b[0;32m     85\u001b[0m             \u001b[1;32melif\u001b[0m \u001b[0merr\u001b[0m\u001b[1;33m.\u001b[0m\u001b[0merrno\u001b[0m \u001b[1;33m==\u001b[0m \u001b[0merrno\u001b[0m\u001b[1;33m.\u001b[0m\u001b[0mEACCES\u001b[0m\u001b[1;33m:\u001b[0m\u001b[1;33m\u001b[0m\u001b[1;33m\u001b[0m\u001b[0m\n",
      "\u001b[1;31mWebDriverException\u001b[0m: Message: 'chromedriver.exe' executable needs to be in PATH. Please see https://sites.google.com/a/chromium.org/chromedriver/home\n"
     ]
    }
   ],
   "source": [
    "# 예제 6-15 실전 다나와 크롤링\n",
    "from selenium import webdriver\n",
    "import time\n",
    "from bs4 import BeautifulSoup\n",
    "from tqdm import tqdm_notebook\n",
    "driver = webdriver.Chrome('D:/MyClass/Python/sample/실무파이썬/4_Jeju_Hotplace/webdriver/chromedriver.exe')\n",
    "\n",
    "# 암묵적으로 웹 자원 로드를 위해 3초까지 기다림\n",
    "driver.implicitly_wait(3)\n",
    "keyword = '무선청소기'\n",
    "total_page = 10\n",
    "prod_data_total = []\n",
    "# 진행 정도를 표현하는 tqdm을 적용 \n",
    "for page in tqdm_notebook(range(1, total_page + 1)):\n",
    "    # ① 검색 페이지 이동\n",
    "    url = get_search_page_url(keyword, page)\n",
    "    driver.get(url)\n",
    "    # 페이지가 로딩 완료되기 위한 시간으로 5초를 할당\n",
    "    time.sleep(5)\n",
    "    \n",
    "    # ② 현재 페이지의 HTML 정보 가져오기\n",
    "    html = driver.page_source\n",
    "    soup = BeautifulSoup(html, 'html.parser')\n",
    "    \n",
    "    # ③ 상품 정보 추출\n",
    "    prod_items = soup.select('div#productListArea > div.main_prodlist > ul.product_list > li.prod_item')\n",
    "    prod_item_list = get_prod_items(prod_items)\n",
    "    # ④ 추출 데이터 저장\n",
    "    prod_data_total = prod_data_total + prod_item_list\n"
   ]
  },
  {
   "cell_type": "markdown",
   "metadata": {},
   "source": [
    "### 6.2.4 수집 데이터 저장 "
   ]
  },
  {
   "cell_type": "code",
   "execution_count": null,
   "metadata": {},
   "outputs": [],
   "source": [
    "# 예제 6-16 데이터 저장\n",
    "import pandas as pd\n",
    "data = pd.DataFrame(prod_data_total)\n",
    "data.columns = ['상품명', '스펙 목록', '가격']\n",
    "data.to_excel('./files/3_1_danawa_crawling_result.xlsx', index = False)"
   ]
  },
  {
   "cell_type": "markdown",
   "metadata": {},
   "source": [
    "### 6.3.1 다나와 크롤링 데이터 불러오기 "
   ]
  },
  {
   "cell_type": "code",
   "execution_count": null,
   "metadata": {},
   "outputs": [],
   "source": [
    "# 예제 6-17 다나와 크롤링 결과 가져오기 \n",
    "import pandas as pd\n",
    "\n",
    "data = pd.read_excel('./files/3_1_danawa_crawling_result.xlsx')\n",
    "data.info()\n",
    "data.head()"
   ]
  },
  {
   "cell_type": "markdown",
   "metadata": {},
   "source": [
    "### 6.3.2 회사명, 모델명 정리 "
   ]
  },
  {
   "cell_type": "code",
   "execution_count": null,
   "metadata": {},
   "outputs": [],
   "source": [
    "# 예제 6-18 회사명 + 모델명 분리\n",
    "company_list = []\n",
    "product_list = []\n",
    "for title in data['상품명']:\n",
    "    title_info = title.split(' ', 1)\n",
    "    company_name = title_info[0]\n",
    "    product_name = title_info[1]\n",
    "    company_list.append(company_name)\n",
    "    product_list.append(product_name)"
   ]
  },
  {
   "cell_type": "markdown",
   "metadata": {},
   "source": [
    "### 6.3.4 스펙 목록에서 카테고리, 사용시간, 흡입력을 추출해서 정리\n"
   ]
  },
  {
   "cell_type": "code",
   "execution_count": null,
   "metadata": {},
   "outputs": [],
   "source": [
    "# 예제 6-19 첫 번째 제품의 스펙 목록 분리\n",
    "spec_list = data['스펙 목록'][0].split(' / ')\n",
    "spec_list "
   ]
  },
  {
   "cell_type": "code",
   "execution_count": null,
   "metadata": {},
   "outputs": [],
   "source": [
    "# 예제 6-20 카테고리 정보 추출\n",
    "category = spec_list[0] \n",
    "category "
   ]
  },
  {
   "cell_type": "code",
   "execution_count": null,
   "metadata": {},
   "outputs": [],
   "source": [
    "# 예제 6-21 ‘사용시간’, ‘흡입력’이 포함된 원소 추출 \n",
    "for spec in spec_list:\n",
    "    if '사용시간' in spec: \n",
    "         use_time_spec = spec \n",
    "    elif '흡입력' in spec:\n",
    "        suction_spec = spec  \n",
    "print(use_time_spec)\n",
    "print(suction_spec)"
   ]
  },
  {
   "cell_type": "code",
   "execution_count": null,
   "metadata": {},
   "outputs": [],
   "source": [
    "# 예제 6-22 정량적인 수치 추출 \n",
    "use_time_value = use_time_spec.split(' ')[1].strip() \n",
    "suction_value = suction_spec.split(' ')[1].strip()\n",
    "print(use_time_value)\n",
    "print(suction_value)"
   ]
  },
  {
   "cell_type": "code",
   "execution_count": null,
   "metadata": {},
   "outputs": [],
   "source": [
    "# 예제 6-23 카테고리, 사용시간, 흡입력 추출 \n",
    "category_list = []\n",
    "use_time_list = []\n",
    "suction_list = [] \n",
    "for spec_data in data['스펙 목록']:\n",
    "    # ' / ' 기준으로 스펙 분리하기 \n",
    "    spec_list = spec_data.split(' / ')\n",
    "    \n",
    "    # 카테고리 추출하기\n",
    "    category = spec_list[0] \n",
    "    category_list.append(category)\n",
    "    \n",
    "    # 사용시간, 흡입력 추출 \n",
    "    ## 사용시간, 흡입력 정보가 없는 제품을 위해 변수를 생성 \n",
    "    use_time_value = None \n",
    "    suction_value = None \n",
    "    \n",
    "    ## spec_list의 각 원소에서 사용시간, 흡입력 수치 추출\n",
    "    for spec in spec_list:\n",
    "        if '사용시간' in spec: \n",
    "            use_time_value = spec.split(' ')[1].strip()             \n",
    "        if '흡입력' in spec:\n",
    "            suction_value = spec.split(' ')[1].strip() \n",
    "    use_time_list.append(use_time_value)\n",
    "    suction_list.append(suction_value)"
   ]
  },
  {
   "cell_type": "code",
   "execution_count": null,
   "metadata": {},
   "outputs": [],
   "source": [
    "# 예제 6-24 카테고리, 사용시간, 흡입력에 대한 전처리 결과 확인\n",
    "print(\"카테고리\", len(category_list), category_list[0:5])\n",
    "print(\"사용시간\", len(use_time_list), use_time_list[0:5])\n",
    "print(\"흡입력\", len(suction_list), suction_list[0:5])"
   ]
  },
  {
   "cell_type": "code",
   "execution_count": null,
   "metadata": {},
   "outputs": [],
   "source": []
  }
 ],
 "metadata": {
  "kernelspec": {
   "display_name": "Python 3",
   "language": "python",
   "name": "python3"
  },
  "language_info": {
   "codemirror_mode": {
    "name": "ipython",
    "version": 3
   },
   "file_extension": ".py",
   "mimetype": "text/x-python",
   "name": "python",
   "nbconvert_exporter": "python",
   "pygments_lexer": "ipython3",
   "version": "3.7.4"
  }
 },
 "nbformat": 4,
 "nbformat_minor": 2
}
