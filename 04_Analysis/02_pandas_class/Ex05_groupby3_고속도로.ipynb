{
 "cells": [
  {
   "cell_type": "markdown",
   "metadata": {},
   "source": [
    "## groupby()\n",
    "\n",
    "\n",
    "#### groupby()와 함께 사용하는 집계 메소드\n",
    "\n",
    "- count : 누락값을 제외한 데이타 수를 반환\n",
    "- size : 누락값을 포함한 데이타 수를 반환\n",
    "- sum\n",
    "- mean\n",
    "- std\n",
    "- var\n",
    "- min\n",
    "- max\n",
    "- quantile(q=0.25)\n",
    "- quantile(q=0.50)\n",
    "- quantile(q=0.75)\n",
    "- describe\n",
    "- first\n",
    "- last\n",
    "- nth   : n번째 행 반환\n",
    "- sem   : 평균의 표준편차 반환"
   ]
  },
  {
   "cell_type": "code",
   "execution_count": 1,
   "metadata": {},
   "outputs": [],
   "source": [
    "import pandas as pd\n",
    "\n",
    "df = pd.read_excel('data/고속버스.xlsx') \n"
   ]
  },
  {
   "cell_type": "code",
   "execution_count": 2,
   "metadata": {},
   "outputs": [],
   "source": [
    "# 그룹화 - '선별' 단위로 각각의 노선에 대한 총 갯수\n"
   ]
  },
  {
   "cell_type": "code",
   "execution_count": 3,
   "metadata": {
    "scrolled": true
   },
   "outputs": [],
   "source": [
    "%matplotlib inline\n",
    "\n",
    "# 한글처리\n",
    "from matplotlib import rc\n",
    "rc('font', family='Malgun Gothic')"
   ]
  },
  {
   "cell_type": "code",
   "execution_count": 4,
   "metadata": {
    "scrolled": true
   },
   "outputs": [],
   "source": [
    "# 노선별 수에 대한 그래프\n"
   ]
  },
  {
   "cell_type": "code",
   "execution_count": 5,
   "metadata": {
    "scrolled": true
   },
   "outputs": [],
   "source": [
    "# 차종별, 노선별별 그룹화 작업\n"
   ]
  },
  {
   "cell_type": "code",
   "execution_count": 7,
   "metadata": {},
   "outputs": [],
   "source": [
    "# 교차테이블(cross tab) - 엑셀의 Pivot 유사\n"
   ]
  },
  {
   "cell_type": "code",
   "execution_count": null,
   "metadata": {},
   "outputs": [],
   "source": []
  },
  {
   "cell_type": "code",
   "execution_count": null,
   "metadata": {},
   "outputs": [],
   "source": []
  }
 ],
 "metadata": {
  "kernelspec": {
   "display_name": "Python 3",
   "language": "python",
   "name": "python3"
  },
  "language_info": {
   "codemirror_mode": {
    "name": "ipython",
    "version": 3
   },
   "file_extension": ".py",
   "mimetype": "text/x-python",
   "name": "python",
   "nbconvert_exporter": "python",
   "pygments_lexer": "ipython3",
   "version": "3.7.6"
  }
 },
 "nbformat": 4,
 "nbformat_minor": 2
}
