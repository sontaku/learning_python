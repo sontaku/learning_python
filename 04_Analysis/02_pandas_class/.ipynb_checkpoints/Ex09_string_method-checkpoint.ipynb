{
 "cells": [
  {
   "cell_type": "markdown",
   "metadata": {},
   "source": [
    "# 문자열 처리\n",
    "\n",
    "    - 파이썬의 기본 문자열 메소드\n",
    "\t- 정규표현식 문자열 처리\n",
    "\t- pandas의 문자열 메소드\n",
    "    \n",
    "    \n",
    "(1) 파이썬 기본 문자 관련 메소드\n",
    "    + upper / lower\t:대문자로 변경 / 소문자로 변경\n",
    "    + count\t: 문자열 출현 횟수 반환\n",
    "    + find\t: 찾고자 하는 단어의 첫글자 위치를 반환 ( 없으면 -1 반환)\n",
    "    + replace\t: 문자열을 다른 문자열로 치환\n",
    "    + strip / rstrip / lstrip\t: 문자열 좌우 공백 제거\n",
    "    + split\t: 구분자 기준으로 단어 분리\n",
    "    + ljust / rjust\t: 문자열 왼쪽(오른쪽)정렬하고 남은 길이만큼 공백처리하여 반환\n",
    "\n",
    "    \n",
    "    \n",
    "(2) 정규표현식 문자열 처리 – re 모듈\n",
    "\n",
    "    ^\t문자열 시작\t\n",
    "    [ ]\t문자집합이나 범위\n",
    "    $\t문자열 종료\t\n",
    "    { }\t횟수 또는 범위\n",
    "    *\t0개 이상\t\n",
    "    ( )\t소괄호 안의 문자를 하나의 문자로 인식\n",
    "    +\t1개 이상\t\n",
    "    |\tor 연산자 역할\n",
    "    ?\t0개 이거나 1개\t\n",
    "    .\t아무 문자\n",
    "\n",
    "    \\s\t공백문자\t\n",
    "    \\d\t숫자[0-9]와 동일\n",
    "    \\S\t공백문자가 아닌 나머지 문자\t\n",
    "    \\D\t숫자를 제외한 모든 문자\n",
    "    \\w\t알파벳이나 숫자\t\n",
    "    \\특수문자\t해당 특수문자\n",
    "    \\W\t알파벳이나 숫자를 제외한 문자\t\n",
    "    (?!)\t대소문자 구분하지 않음\n",
    "\n",
    "\n",
    "(3) pandas에서 text 분석을 위한 Series의 문자열 함수\n",
    "\t- 데이터 분석을 위해 문자열 정제작업을 간결하게 처리하는 메소드 제공\n",
    "    \n",
    "    cat\t: 선택적인 구분자와 함계 요소별 문자열 이어붙임\n",
    "    contains\t: 문자열이 패턴이나 정규표현식을 포함하는지 True/False 배열을 반환\n",
    "    count\t: 일치하는 패턴의 개수를 반환\n",
    "    findall\t: 각 문자열에 대해 일치하는 정규표현식의 전체 목록을 구함\n",
    "    join\t: Series외 각 요소를 주어진 구분자로 연결\n",
    "    match\t: 주어진 정규표현식으로 각 요소에 대한 re.match를 수행하여 일치하는 그룹의 리스트를 반환\n",
    "    get\t: i번째 요소를 반황\n",
    "\n"
   ]
  },
  {
   "cell_type": "code",
   "execution_count": 3,
   "metadata": {},
   "outputs": [
    {
     "data": {
      "text/plain": [
       "['  나는 ', ' 커피와 빵', ' 그리고 밥', '  김치를 좋아한다']"
      ]
     },
     "execution_count": 3,
     "metadata": {},
     "output_type": "execute_result"
    }
   ],
   "source": [
    "#  문장에서 ,로 구분하여 토큰을 나누고 각각의 토큰 앞뒤의 공백을 제거\n",
    "#  \"  나는 , 커피와 빵, 그리고 밥,  김치를 좋아한다  \"\n",
    "#   '나는'  '커피와 빵' '그리고 밥' '김치를 좋아한다'  [결과]\n",
    "\n",
    "str = \"  나는 , 커피와 빵, 그리고 밥,  김치를 좋아한다   \"\n",
    "\n",
    "\n",
    "str.strip()     # 맨 앞에 공백만 제거\n"
   ]
  },
  {
   "cell_type": "code",
   "execution_count": 5,
   "metadata": {},
   "outputs": [
    {
     "data": {
      "text/plain": [
       "['나는', '커피와 빵', '그리고 밥', '김치를 좋아한다']"
      ]
     },
     "execution_count": 5,
     "metadata": {},
     "output_type": "execute_result"
    }
   ],
   "source": [
    "result = str.split(',')\n",
    "result\n",
    "\n",
    "result = [str_token.strip() for str_token in str.split(',')]\n",
    "result"
   ]
  },
  {
   "cell_type": "code",
   "execution_count": 6,
   "metadata": {},
   "outputs": [
    {
     "data": {
      "text/plain": [
       "7"
      ]
     },
     "execution_count": 6,
     "metadata": {},
     "output_type": "execute_result"
    }
   ],
   "source": [
    "str.find('커피')"
   ]
  },
  {
   "cell_type": "code",
   "execution_count": 7,
   "metadata": {},
   "outputs": [
    {
     "data": {
      "text/plain": [
       "-1"
      ]
     },
     "execution_count": 7,
     "metadata": {},
     "output_type": "execute_result"
    }
   ],
   "source": [
    "str.find('커피빵')"
   ]
  },
  {
   "cell_type": "code",
   "execution_count": 9,
   "metadata": {},
   "outputs": [
    {
     "data": {
      "text/plain": [
       "7"
      ]
     },
     "execution_count": 9,
     "metadata": {},
     "output_type": "execute_result"
    }
   ],
   "source": [
    "str.index('커피')"
   ]
  },
  {
   "cell_type": "code",
   "execution_count": 10,
   "metadata": {
    "collapsed": true
   },
   "outputs": [
    {
     "ename": "ValueError",
     "evalue": "substring not found",
     "output_type": "error",
     "traceback": [
      "\u001b[1;31m---------------------------------------------------------------------------\u001b[0m",
      "\u001b[1;31mValueError\u001b[0m                                Traceback (most recent call last)",
      "\u001b[1;32m<ipython-input-10-f31d6aefadc9>\u001b[0m in \u001b[0;36m<module>\u001b[1;34m\u001b[0m\n\u001b[1;32m----> 1\u001b[1;33m \u001b[0mstr\u001b[0m\u001b[1;33m.\u001b[0m\u001b[0mindex\u001b[0m\u001b[1;33m(\u001b[0m\u001b[1;34m'커피빵'\u001b[0m\u001b[1;33m)\u001b[0m\u001b[1;33m\u001b[0m\u001b[1;33m\u001b[0m\u001b[0m\n\u001b[0m",
      "\u001b[1;31mValueError\u001b[0m: substring not found"
     ]
    }
   ],
   "source": [
    "str.index('커피빵')"
   ]
  },
  {
   "cell_type": "code",
   "execution_count": 12,
   "metadata": {},
   "outputs": [
    {
     "data": {
      "text/plain": [
       "True"
      ]
     },
     "execution_count": 12,
     "metadata": {},
     "output_type": "execute_result"
    }
   ],
   "source": [
    "flag = '커피' in str\n",
    "flag"
   ]
  },
  {
   "cell_type": "code",
   "execution_count": 14,
   "metadata": {},
   "outputs": [
    {
     "data": {
      "text/plain": [
       "'  나는 , 커피와 빵, 그리고 밥,  고기를 좋아한다'"
      ]
     },
     "execution_count": 14,
     "metadata": {},
     "output_type": "execute_result"
    }
   ],
   "source": [
    "# str.replace('김치','고기')\n",
    "# str\n",
    "restr = str.replace('김치','고기')\n",
    "restr"
   ]
  },
  {
   "cell_type": "markdown",
   "metadata": {},
   "source": [
    "정규식 표현식"
   ]
  },
  {
   "cell_type": "code",
   "execution_count": null,
   "metadata": {},
   "outputs": [],
   "source": [
    "import re\n",
    "\n",
    "pattern = \"비밀\"\n",
    "str = \"비밀은없다\"       \n",
    "re.match(pattern, str)  # \"진짜비밀은없다\" : 출력결과 없음 (매칭없음)"
   ]
  },
  {
   "cell_type": "code",
   "execution_count": null,
   "metadata": {},
   "outputs": [],
   "source": [
    "matchData = re.match(pattern, str)\n",
    "matchData.group()       # \"진짜비밀은없다\" : 에러발생"
   ]
  },
  {
   "cell_type": "code",
   "execution_count": null,
   "metadata": {},
   "outputs": [],
   "source": [
    "role = re.compile(r'(\\w+)\\s+\\d+-\\d+-\\d+')  # r'' : 정규식표현\n",
    "            # \\w+ : 영문자나 숫자 1개이상\n",
    "            # \\s+ : 공백이 1개이상\n",
    "            # \\d+ : 숫자 1개 잇ㅇ\n",
    "            # - : - 기초"
   ]
  },
  {
   "cell_type": "code",
   "execution_count": null,
   "metadata": {},
   "outputs": [],
   "source": [
    "result = role.search('홍길동 010-1123-2222')  # 문자열에서 role의 규칙이 적용되는 검색\n",
    "result\n",
    "result.group()\n",
    "result.group(1)\n",
    "# result.group(2)    # 에러 - group(1)에서 부분그룹으로 '홍길동' 결과를 가져온 것이 2가 인덱스를 의미하지 않는다\n",
    "# result.group(0)"
   ]
  },
  {
   "cell_type": "code",
   "execution_count": null,
   "metadata": {},
   "outputs": [],
   "source": [
    "# 문자열 데이타에서 공급면적과 전용면적 숫자데이타만 추출하기\n",
    "source = \"ModelA 공급면적 200.99제곱미터 전용면적 180.55제곱미터\"\n",
    "# data1 = re.findall('공급면적\\s+(.*?)제곱미터',  source)\n",
    "# data2 = re.findall('전용면적\\s+(.*?)제곱미터',  source)\n",
    "#                     # \\s+: 공백이 1개 이상\n",
    "                      # .* : 점(.)이 0개 이상\n",
    "                      # (.*?) : 자체가 문자 숫자 모든 글자 포함 (모든 글자를 하나의 내용으로 인식하고자 할 때)\n",
    "# print(data1 ,'/' , data2)  # 결과가 리스트형태인데\n",
    "                           # data1 변수에서 shift+tab을 눌려보면 list 형태임을 알 수 있다.\n",
    "data1 = re.findall('공급면적\\s+(.*?)제곱미터',  source)[0]\n",
    "data2 = re.findall('전용면적\\s+(.*?)제곱미터',  source)[0]\n",
    "print(data1 ,'/' , data2)"
   ]
  },
  {
   "cell_type": "code",
   "execution_count": null,
   "metadata": {},
   "outputs": [],
   "source": [
    "source_2 = '서울시/경기도/인천시/부천시///제주도,강원,'\n",
    "#re.split('/', source_2)           # / 하나로 구분\n",
    "#re.split('/+', source_2)          # / 하나이상으로도 구분\n",
    "re.split('/+|,+', source_2)        # / 와 ,로 구분"
   ]
  },
  {
   "cell_type": "markdown",
   "metadata": {},
   "source": [
    "정규식 표현 포함하여 이메일 패턴 확인하기"
   ]
  },
  {
   "cell_type": "code",
   "execution_count": null,
   "metadata": {},
   "outputs": [],
   "source": [
    "import pandas as pd\n",
    "import numpy as np\n",
    "import re\n",
    "\n",
    "\n",
    "people_list = {'홍길동':'hong@gmail.com', '박길동':'park@naver.com',\n",
    "              '홍길자':'gil.ja@gmail.com', '박길자':'gilja@naver.com',\n",
    "              '홍홍이':'hong@test', '아무개':np.nan}\n",
    "email_info = pd.Series(people_list) # Series 객체\n",
    "email_info"
   ]
  },
  {
   "cell_type": "code",
   "execution_count": null,
   "metadata": {},
   "outputs": [],
   "source": [
    "# naver 사용자만 추출한다면?\n",
    "email_info.str.contains('naver')"
   ]
  },
  {
   "cell_type": "code",
   "execution_count": null,
   "metadata": {},
   "outputs": [],
   "source": [
    "# 이메일 패턴 확인\n",
    "p = r'[a-z0-9._!^$]+@[a-z0-9]+\\.[a-z]{2,4}'\n",
    "     # a-zA-Z0-9._!^$  : 소문자 ,숫자 , 특수문자(.!^$)\n",
    "     # + 이어주는 표시\n",
    "     # @[a-z0-9] : @문자 뒤로 소문자와 숫자로만 구성\n",
    "     # + 이어주는 표시\n",
    "     # 점(.)만 찍으면 문자표시기이게 특수문자 점(.)을 나타내기 위해 \\.으로 표기\n",
    "     # [a-z]{2,4} : 소문자가 2~4개\n",
    "email_info.str.findall(p, flags=re.IGNORECASE)\n",
    "     # [ 과제 ] co.kr 이메일이라면?"
   ]
  },
  {
   "cell_type": "code",
   "execution_count": null,
   "metadata": {},
   "outputs": [],
   "source": [
    "# 각각의 요소로 구분하려면 ( )로 묶는다\n",
    "p2 = r'([a-z0-9._!^$]+)@([a-z0-9]+)\\.([a-z]{2,4})'\n",
    "email_info.str.findall(p2, flags=re.IGNORECASE)"
   ]
  },
  {
   "cell_type": "code",
   "execution_count": null,
   "metadata": {},
   "outputs": [],
   "source": [
    "data = email_info.str.findall(p2, flags=re.IGNORECASE)\n",
    "data.get(5)"
   ]
  }
 ],
 "metadata": {
  "kernelspec": {
   "display_name": "Python 3",
   "language": "python",
   "name": "python3"
  },
  "language_info": {
   "codemirror_mode": {
    "name": "ipython",
    "version": 3
   },
   "file_extension": ".py",
   "mimetype": "text/x-python",
   "name": "python",
   "nbconvert_exporter": "python",
   "pygments_lexer": "ipython3",
   "version": "3.7.3"
  }
 },
 "nbformat": 4,
 "nbformat_minor": 2
}
