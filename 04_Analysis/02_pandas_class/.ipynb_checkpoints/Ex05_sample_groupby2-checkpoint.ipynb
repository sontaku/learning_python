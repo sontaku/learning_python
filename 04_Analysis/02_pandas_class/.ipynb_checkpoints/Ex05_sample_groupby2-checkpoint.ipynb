{
 "cells": [
  {
   "cell_type": "code",
   "execution_count": 1,
   "metadata": {},
   "outputs": [],
   "source": [
    "import pandas as pd\n",
    "\n",
    "df = pd.read_excel('data/고속버스.xlsx') "
   ]
  },
  {
   "cell_type": "code",
   "execution_count": 31,
   "metadata": {},
   "outputs": [
    {
     "data": {
      "text/plain": [
       "선별\n",
       "호남선    122\n",
       "경부선    105\n",
       "구마선     30\n",
       "영동선     26\n",
       "경인선     25\n",
       "남해선     21\n",
       "88선     18\n",
       "동해선      4\n",
       "Name: 선별, dtype: int64"
      ]
     },
     "execution_count": 31,
     "metadata": {},
     "output_type": "execute_result"
    }
   ],
   "source": [
    "# 그룹화 - '선별' 단위로 각각의 노선에 대한 총 갯수\n",
    "df.groupby('선별').count()\n",
    "    # 각 컬럼으로 동일한 수가 여러번 출력된다.\n",
    "df_group = df.groupby('선별')  # 우선 특정 항목의 그룹을 다른 변수에 저장\n",
    "# df_group 출력안됨\n",
    "df_group['선별'].count()       # 그룹핑된 객체에서 한 종류의 컬럼을 추출하고 갯수 구하기\n",
    "                               # 여기서 특정 컬럼은 아무거나 다 동일한데?\n",
    "# 정렬 \n",
    "# df_group['차종'].count().sort_values(ascending=0)  # 에러발생!\n",
    "# 그룹핑하고 한 컬럼에 대한 값만 추출하였다는 것은 Series 데이타 타입이기에\n",
    "# DataFrame 정렬할 때의 (ascending=0) 방식은 에러 발생. (by=컬럼명)도 사용못함\n",
    "df_group['선별'].count().sort_values(ascending=False)\n"
   ]
  },
  {
   "cell_type": "code",
   "execution_count": 39,
   "metadata": {
    "scrolled": true
   },
   "outputs": [],
   "source": [
    "# %matplotlib notebook  # notebook 대신 inline \n",
    "%matplotlib inline"
   ]
  },
  {
   "cell_type": "code",
   "execution_count": 36,
   "metadata": {
    "scrolled": true
   },
   "outputs": [
    {
     "data": {
      "text/plain": [
       "<matplotlib.axes._subplots.AxesSubplot at 0x2a3c55fa8d0>"
      ]
     },
     "execution_count": 36,
     "metadata": {},
     "output_type": "execute_result"
    },
    {
     "data": {
      "image/png": "[encoded data removed]",
      "text/plain": [
       "<Figure size 432x288 with 1 Axes>"
      ]
     },
     "metadata": {
      "needs_background": "light"
     },
     "output_type": "display_data"
    }
   ],
   "source": [
    "df_group['선별'].count().plot(kind='bar') # 한글 깨짐 - 추후 해결"
   ]
  },
  {
   "cell_type": "code",
   "execution_count": 43,
   "metadata": {},
   "outputs": [
    {
     "data": {
      "text/plain": [
       "차종  선별 \n",
       "고속  88선     1615.857143\n",
       "    경부선    15246.333333\n",
       "    경인선     2719.636364\n",
       "    구마선     2621.785714\n",
       "    남해선     3613.384615\n",
       "    동해선     3604.000000\n",
       "    영동선    18547.785714\n",
       "    호남선     7451.238095\n",
       "우등  88선     5566.545455\n",
       "    경부선    13786.229167\n",
       "    경인선     8937.071429\n",
       "    구마선    11092.625000\n",
       "    남해선     9492.125000\n",
       "    동해선    14627.500000\n",
       "    영동선    19762.166667\n",
       "    호남선    13218.694915\n",
       "Name: 총이용인원, dtype: float64"
      ]
     },
     "execution_count": 43,
     "metadata": {},
     "output_type": "execute_result"
    }
   ],
   "source": [
    "# 차종별, 선별별 그룹화 작업\n",
    "df_group2 = df.groupby(['차종','선별'])\n",
    "df_group2.mean()\n",
    "# 총이용인원에 대한 평균\n",
    "df_group2['총이용인원'].mean()"
   ]
  },
  {
   "cell_type": "code",
   "execution_count": 47,
   "metadata": {},
   "outputs": [
    {
     "data": {
      "text/html": [
       "<div>\n",
       "<style scoped>\n",
       "    .dataframe tbody tr th:only-of-type {\n",
       "        vertical-align: middle;\n",
       "    }\n",
       "\n",
       "    .dataframe tbody tr th {\n",
       "        vertical-align: top;\n",
       "    }\n",
       "\n",
       "    .dataframe thead th {\n",
       "        text-align: right;\n",
       "    }\n",
       "</style>\n",
       "<table border=\"1\" class=\"dataframe\">\n",
       "  <thead>\n",
       "    <tr style=\"text-align: right;\">\n",
       "      <th>선별</th>\n",
       "      <th>88선</th>\n",
       "      <th>경부선</th>\n",
       "      <th>경인선</th>\n",
       "      <th>구마선</th>\n",
       "      <th>남해선</th>\n",
       "      <th>동해선</th>\n",
       "      <th>영동선</th>\n",
       "      <th>호남선</th>\n",
       "      <th>All</th>\n",
       "    </tr>\n",
       "    <tr>\n",
       "      <th>차종</th>\n",
       "      <th></th>\n",
       "      <th></th>\n",
       "      <th></th>\n",
       "      <th></th>\n",
       "      <th></th>\n",
       "      <th></th>\n",
       "      <th></th>\n",
       "      <th></th>\n",
       "      <th></th>\n",
       "    </tr>\n",
       "  </thead>\n",
       "  <tbody>\n",
       "    <tr>\n",
       "      <th>고속</th>\n",
       "      <td>7</td>\n",
       "      <td>57</td>\n",
       "      <td>11</td>\n",
       "      <td>14</td>\n",
       "      <td>13</td>\n",
       "      <td>2</td>\n",
       "      <td>14</td>\n",
       "      <td>63</td>\n",
       "      <td>181</td>\n",
       "    </tr>\n",
       "    <tr>\n",
       "      <th>우등</th>\n",
       "      <td>11</td>\n",
       "      <td>48</td>\n",
       "      <td>14</td>\n",
       "      <td>16</td>\n",
       "      <td>8</td>\n",
       "      <td>2</td>\n",
       "      <td>12</td>\n",
       "      <td>59</td>\n",
       "      <td>170</td>\n",
       "    </tr>\n",
       "    <tr>\n",
       "      <th>All</th>\n",
       "      <td>18</td>\n",
       "      <td>105</td>\n",
       "      <td>25</td>\n",
       "      <td>30</td>\n",
       "      <td>21</td>\n",
       "      <td>4</td>\n",
       "      <td>26</td>\n",
       "      <td>122</td>\n",
       "      <td>351</td>\n",
       "    </tr>\n",
       "  </tbody>\n",
       "</table>\n",
       "</div>"
      ],
      "text/plain": [
       "선별   88선  경부선  경인선  구마선  남해선  동해선  영동선  호남선  All\n",
       "차종                                              \n",
       "고속     7   57   11   14   13    2   14   63  181\n",
       "우등    11   48   14   16    8    2   12   59  170\n",
       "All   18  105   25   30   21    4   26  122  351"
      ]
     },
     "execution_count": 47,
     "metadata": {},
     "output_type": "execute_result"
    }
   ],
   "source": [
    "# 교차테이블(cross tab) - 엑셀의 Pivot 유사\n",
    "# DataFrame 안에 pivot() 함수가 있긴 한데...차이는?\n",
    "pd.crosstab(df['차종'], df['선별'])   # 첫번째인자: 인덱스, 두번째인자:컬럼\n",
    "pd.crosstab(df['차종'], df['선별'], margins=True) "
   ]
  },
  {
   "cell_type": "code",
   "execution_count": null,
   "metadata": {},
   "outputs": [],
   "source": []
  },
  {
   "cell_type": "code",
   "execution_count": null,
   "metadata": {},
   "outputs": [],
   "source": []
  }
 ],
 "metadata": {
  "kernelspec": {
   "display_name": "Python 3",
   "language": "python",
   "name": "python3"
  },
  "language_info": {
   "codemirror_mode": {
    "name": "ipython",
    "version": 3
   },
   "file_extension": ".py",
   "mimetype": "text/x-python",
   "name": "python",
   "nbconvert_exporter": "python",
   "pygments_lexer": "ipython3",
   "version": "3.7.1"
  }
 },
 "nbformat": 4,
 "nbformat_minor": 2
}
