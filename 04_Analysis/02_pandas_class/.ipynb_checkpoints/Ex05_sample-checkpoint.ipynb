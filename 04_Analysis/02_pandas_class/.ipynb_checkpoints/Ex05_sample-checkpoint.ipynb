{
 "cells": [
  {
   "cell_type": "markdown",
   "metadata": {},
   "source": [
    "###  데이타 분석\n",
    "\n",
    "데이타 -> 필터링 -> 정제 -> 시각화 -> 분석\n",
    "\n",
    "\n",
    "### 데이타 필터링\n",
    "\n",
    "분석에 필요한 데이타를 거르는 작업\n",
    "\n",
    "# 고속버스 데이타셋에서 인사이트를 도출\n",
    "\n",
    "[예] \n",
    "\n",
    "1. 우승고속에 대한 데이타 필터링(추출)\n",
    "\n",
    "2. 경부선에서 총이용인원이 1000명 이상인 데이타 필터링(추출)\n",
    "\n",
    "3. 그 외 데이타를 찾아내시오"
   ]
  },
  {
   "cell_type": "code",
   "execution_count": 4,
   "metadata": {},
   "outputs": [
    {
     "data": {
      "text/html": [
       "<div>\n",
       "<style scoped>\n",
       "    .dataframe tbody tr th:only-of-type {\n",
       "        vertical-align: middle;\n",
       "    }\n",
       "\n",
       "    .dataframe tbody tr th {\n",
       "        vertical-align: top;\n",
       "    }\n",
       "\n",
       "    .dataframe thead th {\n",
       "        text-align: right;\n",
       "    }\n",
       "</style>\n",
       "<table border=\"1\" class=\"dataframe\">\n",
       "  <thead>\n",
       "    <tr style=\"text-align: right;\">\n",
       "      <th></th>\n",
       "      <th>차종</th>\n",
       "      <th>선별</th>\n",
       "      <th>출발지</th>\n",
       "      <th>도착지</th>\n",
       "      <th>거리</th>\n",
       "      <th>총운행횟수</th>\n",
       "      <th>총이용인원</th>\n",
       "      <th>이용율</th>\n",
       "    </tr>\n",
       "  </thead>\n",
       "  <tbody>\n",
       "    <tr>\n",
       "      <th>0</th>\n",
       "      <td>우등</td>\n",
       "      <td>88선</td>\n",
       "      <td>광주</td>\n",
       "      <td>울산</td>\n",
       "      <td>327.8</td>\n",
       "      <td>412</td>\n",
       "      <td>7283</td>\n",
       "      <td>63.1</td>\n",
       "    </tr>\n",
       "    <tr>\n",
       "      <th>1</th>\n",
       "      <td>고속</td>\n",
       "      <td>88선</td>\n",
       "      <td>광주</td>\n",
       "      <td>울산</td>\n",
       "      <td>327.8</td>\n",
       "      <td>145</td>\n",
       "      <td>3050</td>\n",
       "      <td>46.7</td>\n",
       "    </tr>\n",
       "    <tr>\n",
       "      <th>2</th>\n",
       "      <td>우등</td>\n",
       "      <td>88선</td>\n",
       "      <td>광주</td>\n",
       "      <td>울산신복</td>\n",
       "      <td>327.8</td>\n",
       "      <td>164</td>\n",
       "      <td>545</td>\n",
       "      <td>11.9</td>\n",
       "    </tr>\n",
       "    <tr>\n",
       "      <th>3</th>\n",
       "      <td>고속</td>\n",
       "      <td>88선</td>\n",
       "      <td>광주</td>\n",
       "      <td>울산신복</td>\n",
       "      <td>327.8</td>\n",
       "      <td>70</td>\n",
       "      <td>311</td>\n",
       "      <td>9.9</td>\n",
       "    </tr>\n",
       "    <tr>\n",
       "      <th>4</th>\n",
       "      <td>우등</td>\n",
       "      <td>88선</td>\n",
       "      <td>광주</td>\n",
       "      <td>동대구</td>\n",
       "      <td>219.3</td>\n",
       "      <td>1369</td>\n",
       "      <td>21873</td>\n",
       "      <td>57.1</td>\n",
       "    </tr>\n",
       "  </tbody>\n",
       "</table>\n",
       "</div>"
      ],
      "text/plain": [
       "   차종   선별 출발지   도착지     거리  총운행횟수  총이용인원   이용율\n",
       "0  우등  88선  광주    울산  327.8    412   7283  63.1\n",
       "1  고속  88선  광주    울산  327.8    145   3050  46.7\n",
       "2  우등  88선  광주  울산신복  327.8    164    545  11.9\n",
       "3  고속  88선  광주  울산신복  327.8     70    311   9.9\n",
       "4  우등  88선  광주   동대구  219.3   1369  21873  57.1"
      ]
     },
     "execution_count": 4,
     "metadata": {},
     "output_type": "execute_result"
    }
   ],
   "source": [
    "import pandas as pd\n",
    "\n",
    "df = pd.read_excel('data/고속버스.xlsx') \n",
    "       # sheetname='highway'  encoding='cp949' 추가 안해도 실행  \n",
    "df.head()  # 상위 5개만 보임"
   ]
  },
  {
   "cell_type": "markdown",
   "metadata": {},
   "source": [
    "[연습]"
   ]
  },
  {
   "cell_type": "code",
   "execution_count": null,
   "metadata": {},
   "outputs": [],
   "source": []
  },
  {
   "cell_type": "code",
   "execution_count": null,
   "metadata": {},
   "outputs": [],
   "source": []
  },
  {
   "cell_type": "code",
   "execution_count": null,
   "metadata": {},
   "outputs": [],
   "source": []
  },
  {
   "cell_type": "code",
   "execution_count": null,
   "metadata": {},
   "outputs": [],
   "source": []
  }
 ],
 "metadata": {
  "kernelspec": {
   "display_name": "Python 3",
   "language": "python",
   "name": "python3"
  },
  "language_info": {
   "codemirror_mode": {
    "name": "ipython",
    "version": 3
   },
   "file_extension": ".py",
   "mimetype": "text/x-python",
   "name": "python",
   "nbconvert_exporter": "python",
   "pygments_lexer": "ipython3",
   "version": "3.7.3"
  }
 },
 "nbformat": 4,
 "nbformat_minor": 2
}
