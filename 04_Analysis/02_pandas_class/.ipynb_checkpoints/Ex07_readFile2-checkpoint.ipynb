{
 "cells": [
  {
   "cell_type": "markdown",
   "metadata": {},
   "source": [
    "## 인터넷 상의 데이타 읽기\n",
    "\n",
    "1. Url 상의 csv 읽기 :  pandas.read_csv(url) \n",
    "\n",
    "2. 크롤링하여 읽기\n",
    "\n",
    "    ` requests / Selenium 라이브러리 활용\n",
    "    ` pandas.read_html(url, .. ) : 내부적으로 requests 라이브러리 사용\n",
    "    \n",
    "3. pandas-datareader 라이브러리\n",
    "\n",
    "    ` 내부적으로 requests 라이브러리 사용\n",
    "    ` 버전에 따라 오류 발생\n",
    "    ` Google Finance/Yahoo Finance 등에서 데이타 지원 -> 연결이 안될 수도 있음"
   ]
  },
  {
   "cell_type": "markdown",
   "metadata": {},
   "source": [
    "    [참고] Kosdaq 종목코드 CSV URL : https://goo.gl/3p3dSG\n",
    "\n",
    "        - https://gist.githubusercontent.com/allieus/5ce98166166d06ee9060e6a261e812dc/raw\n",
    "        - 위 주소를 pandas.read_csv(여기)에 붙이기\n",
    "\n",
    "    [참고] Kospi 종목코드 CSV URL : https://goo.gl/aUHznC\n",
    "\n",
    "        - https://gist.githubusercontent.com/allieus/733725662c644ab56c9db9d3cdf77ed1/raw"
   ]
  },
  {
   "cell_type": "markdown",
   "metadata": {},
   "source": [
    "## (1) read_csv()"
   ]
  },
  {
   "cell_type": "code",
   "execution_count": 1,
   "metadata": {},
   "outputs": [],
   "source": [
    "import pandas as pd\n",
    "\n"
   ]
  },
  {
   "cell_type": "markdown",
   "metadata": {},
   "source": [
    "## (2) pandas.read_html()\n",
    "\n",
    "- 웹페이지 크롤링을 쉽게 도와주는 만능 라이브러리 X (아님)\n",
    "\n",
    "- 웹 페이지 상의 HTML table을 한번에 로딩하기 위한 목적임\n",
    "\n",
    "  그러나 데이터 외에 다른 문자열이 있으면 곤란"
   ]
  },
  {
   "cell_type": "code",
   "execution_count": 2,
   "metadata": {},
   "outputs": [],
   "source": []
  },
  {
   "cell_type": "markdown",
   "metadata": {},
   "source": [
    "##  (3) pandas-datareader 라이브러리 \n",
    "\n",
    "        ` 설치 필요\n",
    "        ` 최신버전 업그레이드 필수\n",
    "        ` pip install --upgrade pandas-datareader\n",
    "        ` Anaconda Prompt에서 확인 가능(반드시 관리자 권한으로 실행) : conda install pandas-datareader\n",
    "        ` Jupyter 에서 !pip install --upgrade pandas-datareader\n"
   ]
  },
  {
   "cell_type": "code",
   "execution_count": null,
   "metadata": {},
   "outputs": [],
   "source": []
  },
  {
   "cell_type": "code",
   "execution_count": null,
   "metadata": {},
   "outputs": [],
   "source": []
  }
 ],
 "metadata": {
  "kernelspec": {
   "display_name": "Python 3",
   "language": "python",
   "name": "python3"
  },
  "language_info": {
   "codemirror_mode": {
    "name": "ipython",
    "version": 3
   },
   "file_extension": ".py",
   "mimetype": "text/x-python",
   "name": "python",
   "nbconvert_exporter": "python",
   "pygments_lexer": "ipython3",
   "version": "3.7.3"
  }
 },
 "nbformat": 4,
 "nbformat_minor": 2
}
