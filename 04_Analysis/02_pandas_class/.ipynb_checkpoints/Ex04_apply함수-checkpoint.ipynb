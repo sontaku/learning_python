{
 "cells": [
  {
   "cell_type": "code",
   "execution_count": 1,
   "metadata": {},
   "outputs": [],
   "source": [
    "import pandas as pd\n",
    "\n",
    "df = pd.DataFrame( {'a':[10,20,30], 'b':[2, 4, 6]})\n"
   ]
  },
  {
   "cell_type": "code",
   "execution_count": 2,
   "metadata": {},
   "outputs": [],
   "source": [
    "# 1. 함수 정의\n",
    "def my_fun1(x):\n",
    "    return x**2\n",
    "\n",
    "def my_fun2(x, n):\n",
    "    return x**n\n",
    "\n"
   ]
  },
  {
   "cell_type": "code",
   "execution_count": 3,
   "metadata": {},
   "outputs": [
    {
     "name": "stdout",
     "output_type": "stream",
     "text": [
      "0    100\n",
      "1    400\n",
      "2    900\n",
      "Name: a, dtype: int64\n",
      "0      16\n",
      "1     256\n",
      "2    1296\n",
      "Name: b, dtype: int64\n"
     ]
    }
   ],
   "source": [
    "# 2. apply 함수를 이용하여 모든 데이타에 각각 함수 적용하기\n",
    "re1 = df['a'].apply(my_fun1)\n",
    "print(re1)\n",
    "\n",
    "re2 = df['b'].apply(my_fun2, n=4)\n",
    "print(re2)"
   ]
  },
  {
   "cell_type": "code",
   "execution_count": 3,
   "metadata": {},
   "outputs": [
    {
     "name": "stdout",
     "output_type": "stream",
     "text": [
      "a    60\n",
      "b    12\n",
      "dtype: int64\n",
      "0    12\n",
      "1    24\n",
      "2    36\n",
      "dtype: int64\n"
     ]
    }
   ],
   "source": [
    "# [연습] 데이타 프레임의 각 열 단위로 데이타의 합을 출력\n",
    "def my_fun3(col):\n",
    "    sum=0\n",
    "    for i in col:\n",
    "        sum += i\n",
    "    return sum\n",
    "\n",
    "    # *** 여기서 df가 my_fun3 함수의 인자 col로 컬럼단위로 들어간다는 것을 이해. ( 컬럼수 만큼 반복하여 )\n",
    "re3 = df.apply(my_fun3) # axix=0 기본값\n",
    "print(re3)\n",
    "\n",
    "# 만일 행단위 단위로 데이타의 합을 출력\n",
    "re4 = df.apply(my_fun3, axis=1)\n",
    "print(re4)"
   ]
  },
  {
   "cell_type": "markdown",
   "metadata": {},
   "source": [
    "람다표현식와 연결하면\n",
    "- 더 읽기 편한가"
   ]
  },
  {
   "cell_type": "code",
   "execution_count": 7,
   "metadata": {},
   "outputs": [
    {
     "data": {
      "text/plain": [
       "0    C\n",
       "1    B\n",
       "2    A\n",
       "Name: a, dtype: object"
      ]
     },
     "execution_count": 7,
     "metadata": {},
     "output_type": "execute_result"
    }
   ],
   "source": [
    "# 'a' 컬럼의 값이 10 이하는 'C', 20 이하는  'B', 30 이하는 'A'를 지정하고자 할 때\n",
    "def func(score):\n",
    "    grade = ''\n",
    "    if( score <= 10) : grade='C'\n",
    "    elif(score <= 20) : grade='B'\n",
    "    elif(score <= 30) : grade='A'\n",
    "    return grade\n",
    "\n",
    "#df['a'].apply(func)\n",
    "\n",
    "# 람다표현식으로 작성하면\n",
    "df['a'].apply(lambda x : func(x))"
   ]
  },
  {
   "cell_type": "markdown",
   "metadata": {},
   "source": [
    "## [연습]  고객의 결제정보에서 vip 선별\n",
    "\n",
    "결재가 confirmed 된 상태이고 금액이 500원이상 구매한 고객들을 vip로 선별하고 그 외 고객들은 non-vip로 지정하여 grade 컬럼에 추가 저장한다."
   ]
  },
  {
   "cell_type": "code",
   "execution_count": 1,
   "metadata": {},
   "outputs": [
    {
     "data": {
      "text/html": [
       "<div>\n",
       "<style scoped>\n",
       "    .dataframe tbody tr th:only-of-type {\n",
       "        vertical-align: middle;\n",
       "    }\n",
       "\n",
       "    .dataframe tbody tr th {\n",
       "        vertical-align: top;\n",
       "    }\n",
       "\n",
       "    .dataframe thead th {\n",
       "        text-align: right;\n",
       "    }\n",
       "</style>\n",
       "<table border=\"1\" class=\"dataframe\">\n",
       "  <thead>\n",
       "    <tr style=\"text-align: right;\">\n",
       "      <th></th>\n",
       "      <th>date</th>\n",
       "      <th>price</th>\n",
       "      <th>state</th>\n",
       "    </tr>\n",
       "    <tr>\n",
       "      <th>Name</th>\n",
       "      <th></th>\n",
       "      <th></th>\n",
       "      <th></th>\n",
       "    </tr>\n",
       "  </thead>\n",
       "  <tbody>\n",
       "    <tr>\n",
       "      <th>Kang</th>\n",
       "      <td>2017-01-01</td>\n",
       "      <td>500</td>\n",
       "      <td>confirmed</td>\n",
       "    </tr>\n",
       "    <tr>\n",
       "      <th>Kim</th>\n",
       "      <td>2017-01-03</td>\n",
       "      <td>700</td>\n",
       "      <td>confirmed</td>\n",
       "    </tr>\n",
       "    <tr>\n",
       "      <th>Choi</th>\n",
       "      <td>2017-01-03</td>\n",
       "      <td>900</td>\n",
       "      <td>confirmed</td>\n",
       "    </tr>\n",
       "    <tr>\n",
       "      <th>Park</th>\n",
       "      <td>2017-01-05</td>\n",
       "      <td>800</td>\n",
       "      <td>confirmed</td>\n",
       "    </tr>\n",
       "    <tr>\n",
       "      <th>Lee</th>\n",
       "      <td>2017-01-07</td>\n",
       "      <td>500</td>\n",
       "      <td>canceled</td>\n",
       "    </tr>\n",
       "    <tr>\n",
       "      <th>Yoon</th>\n",
       "      <td>2017-01-09</td>\n",
       "      <td>700</td>\n",
       "      <td>confirmed</td>\n",
       "    </tr>\n",
       "    <tr>\n",
       "      <th>Jang</th>\n",
       "      <td>2017-01-09</td>\n",
       "      <td>600</td>\n",
       "      <td>canceled</td>\n",
       "    </tr>\n",
       "    <tr>\n",
       "      <th>Ko</th>\n",
       "      <td>2017-01-10</td>\n",
       "      <td>200</td>\n",
       "      <td>canceled</td>\n",
       "    </tr>\n",
       "  </tbody>\n",
       "</table>\n",
       "</div>"
      ],
      "text/plain": [
       "            date  price      state\n",
       "Name                              \n",
       "Kang  2017-01-01    500  confirmed\n",
       "Kim   2017-01-03    700  confirmed\n",
       "Choi  2017-01-03    900  confirmed\n",
       "Park  2017-01-05    800  confirmed\n",
       "Lee   2017-01-07    500   canceled\n",
       "Yoon  2017-01-09    700  confirmed\n",
       "Jang  2017-01-09    600   canceled\n",
       "Ko    2017-01-10    200   canceled"
      ]
     },
     "execution_count": 1,
     "metadata": {},
     "output_type": "execute_result"
    }
   ],
   "source": [
    "import pandas as pd\n",
    "\n",
    "# index_col : 지정한 컬럼을 Row Index로 사용한다.\n",
    "customer = pd.read_csv('./data/customer.csv', index_col = \"Name\")\n",
    "\n",
    "customer"
   ]
  },
  {
   "cell_type": "code",
   "execution_count": 3,
   "metadata": {},
   "outputs": [
    {
     "data": {
      "text/html": [
       "<div>\n",
       "<style scoped>\n",
       "    .dataframe tbody tr th:only-of-type {\n",
       "        vertical-align: middle;\n",
       "    }\n",
       "\n",
       "    .dataframe tbody tr th {\n",
       "        vertical-align: top;\n",
       "    }\n",
       "\n",
       "    .dataframe thead th {\n",
       "        text-align: right;\n",
       "    }\n",
       "</style>\n",
       "<table border=\"1\" class=\"dataframe\">\n",
       "  <thead>\n",
       "    <tr style=\"text-align: right;\">\n",
       "      <th></th>\n",
       "      <th>date</th>\n",
       "      <th>price</th>\n",
       "      <th>state</th>\n",
       "      <th>grade</th>\n",
       "    </tr>\n",
       "    <tr>\n",
       "      <th>Name</th>\n",
       "      <th></th>\n",
       "      <th></th>\n",
       "      <th></th>\n",
       "      <th></th>\n",
       "    </tr>\n",
       "  </thead>\n",
       "  <tbody>\n",
       "    <tr>\n",
       "      <th>Kang</th>\n",
       "      <td>2017-01-01</td>\n",
       "      <td>500</td>\n",
       "      <td>confirmed</td>\n",
       "      <td>VIP</td>\n",
       "    </tr>\n",
       "    <tr>\n",
       "      <th>Kim</th>\n",
       "      <td>2017-01-03</td>\n",
       "      <td>700</td>\n",
       "      <td>confirmed</td>\n",
       "      <td>VIP</td>\n",
       "    </tr>\n",
       "    <tr>\n",
       "      <th>Choi</th>\n",
       "      <td>2017-01-03</td>\n",
       "      <td>900</td>\n",
       "      <td>confirmed</td>\n",
       "      <td>VIP</td>\n",
       "    </tr>\n",
       "    <tr>\n",
       "      <th>Park</th>\n",
       "      <td>2017-01-05</td>\n",
       "      <td>800</td>\n",
       "      <td>confirmed</td>\n",
       "      <td>VIP</td>\n",
       "    </tr>\n",
       "    <tr>\n",
       "      <th>Lee</th>\n",
       "      <td>2017-01-07</td>\n",
       "      <td>500</td>\n",
       "      <td>canceled</td>\n",
       "      <td>VIP</td>\n",
       "    </tr>\n",
       "    <tr>\n",
       "      <th>Yoon</th>\n",
       "      <td>2017-01-09</td>\n",
       "      <td>700</td>\n",
       "      <td>confirmed</td>\n",
       "      <td>VIP</td>\n",
       "    </tr>\n",
       "    <tr>\n",
       "      <th>Jang</th>\n",
       "      <td>2017-01-09</td>\n",
       "      <td>600</td>\n",
       "      <td>canceled</td>\n",
       "      <td>VIP</td>\n",
       "    </tr>\n",
       "    <tr>\n",
       "      <th>Ko</th>\n",
       "      <td>2017-01-10</td>\n",
       "      <td>200</td>\n",
       "      <td>canceled</td>\n",
       "      <td>non-VIP</td>\n",
       "    </tr>\n",
       "  </tbody>\n",
       "</table>\n",
       "</div>"
      ],
      "text/plain": [
       "            date  price      state    grade\n",
       "Name                                       \n",
       "Kang  2017-01-01    500  confirmed      VIP\n",
       "Kim   2017-01-03    700  confirmed      VIP\n",
       "Choi  2017-01-03    900  confirmed      VIP\n",
       "Park  2017-01-05    800  confirmed      VIP\n",
       "Lee   2017-01-07    500   canceled      VIP\n",
       "Yoon  2017-01-09    700  confirmed      VIP\n",
       "Jang  2017-01-09    600   canceled      VIP\n",
       "Ko    2017-01-10    200   canceled  non-VIP"
      ]
     },
     "execution_count": 3,
     "metadata": {},
     "output_type": "execute_result"
    }
   ],
   "source": [
    "def find_level(amount):\n",
    "    if amount >= 500:\n",
    "        result = 'VIP'\n",
    "    else:\n",
    "        result = 'non-VIP'\n",
    "    \n",
    "    return result\n",
    "    \n",
    "customer[\"grade\"] = customer[\"price\"].apply(find_level)\n",
    "customer"
   ]
  }
 ],
 "metadata": {
  "kernelspec": {
   "display_name": "Python 3",
   "language": "python",
   "name": "python3"
  },
  "language_info": {
   "codemirror_mode": {
    "name": "ipython",
    "version": 3
   },
   "file_extension": ".py",
   "mimetype": "text/x-python",
   "name": "python",
   "nbconvert_exporter": "python",
   "pygments_lexer": "ipython3",
   "version": "3.7.3"
  }
 },
 "nbformat": 4,
 "nbformat_minor": 2
}
