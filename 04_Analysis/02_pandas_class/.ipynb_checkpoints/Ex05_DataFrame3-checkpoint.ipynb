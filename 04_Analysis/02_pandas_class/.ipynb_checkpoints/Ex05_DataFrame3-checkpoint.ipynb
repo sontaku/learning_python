{
 "cells": [
  {
   "cell_type": "markdown",
   "metadata": {},
   "source": [
    "##  데이타 분석\n",
    "\n",
    "데이타 -> 필터링 -> 정제 -> 시각화 -> 분석\n",
    "\n",
    "\n",
    "## 데이타 필터링\n",
    "\n",
    "분석에 필요한 데이타를 거르는 작업 ( 데이타 추출 )\n",
    "\n",
    "1. 열단위 추출 : df['컬럼명']\n",
    "\n",
    "2. 행단위 추출 : df.loc[인덱스명칭] / df.iloc[인덱스위치]\n",
    "\n",
    "    - loc[] : 명칭 기반 인덱싱\n",
    "    - iloc[] : 위치 기반 인덱싱\n",
    "    \n",
    "    현재 인덱스가 글자로 지정되지 않았기에 loc[]/iloc[] 모두 가능\n",
    "    \n",
    "\n",
    "        - loc과 iloc 차이\n",
    "            - df.loc[-1]  # 에러\n",
    "            - df.iloc[-1] # 마지막번호"
   ]
  },
  {
   "cell_type": "code",
   "execution_count": 1,
   "metadata": {},
   "outputs": [],
   "source": [
    "# 데이타 추출\n",
    "\n",
    "import pandas as pd\n",
    "\n",
    "df = pd.read_excel('http://qrc.depaul.edu/excel_files/presidents.xlsx')\n",
    "\n",
    "# 1. 열단위 추출\n",
    "# 'President','Age at inauguration' 컬럼명 추출\n"
   ]
  },
  {
   "cell_type": "code",
   "execution_count": 2,
   "metadata": {
    "scrolled": true
   },
   "outputs": [
    {
     "data": {
      "text/plain": [
       "' \\n    loc[] : 명칭 기반 인덱싱\\n    iloc[] : 위치 기반 인덱싱\\n    \\n    현재 인덱스가 글자로 지정되지 않았기에 loc[]/iloc[] 모두 가능\\n'"
      ]
     },
     "execution_count": 2,
     "metadata": {},
     "output_type": "execute_result"
    }
   ],
   "source": [
    "# 2. 행단위 추출\n",
    "#   조지워싱턴 / 링컨/ 오마바 대통령 정보만 출력\n",
    "\n",
    "\"\"\" \n",
    "    loc[] : 명칭 기반 인덱싱\n",
    "    iloc[] : 위치 기반 인덱싱\n",
    "    \n",
    "    현재 인덱스가 글자로 지정되지 않았기에 loc[]/iloc[] 모두 가능\n",
    "\"\"\"\n",
    "# (1) loc\n"
   ]
  },
  {
   "cell_type": "code",
   "execution_count": 3,
   "metadata": {},
   "outputs": [],
   "source": [
    "# (2) iloc\n"
   ]
  },
  {
   "cell_type": "markdown",
   "metadata": {},
   "source": [
    "마지막행의 데이타 추출"
   ]
  },
  {
   "cell_type": "code",
   "execution_count": null,
   "metadata": {},
   "outputs": [],
   "source": []
  },
  {
   "cell_type": "code",
   "execution_count": null,
   "metadata": {},
   "outputs": [],
   "source": []
  },
  {
   "cell_type": "markdown",
   "metadata": {},
   "source": [
    "행열 모두 지정하여 추출 \n",
    "\n",
    "- 초대 대통령 10명의 이름과 대학을 추출"
   ]
  },
  {
   "cell_type": "code",
   "execution_count": 4,
   "metadata": {
    "scrolled": true
   },
   "outputs": [],
   "source": [
    "\n",
    "# (1) 초대 대통령 10명의 이름과 대학을 추출\n",
    "#     하지만 컬럼명을 기술하는 것을 권장"
   ]
  },
  {
   "cell_type": "markdown",
   "metadata": {},
   "source": [
    "#### [ 결과 ]\n",
    "\n",
    "                President           College\n",
    "                \n",
    "    0      George Washington              None\n",
    "\n",
    "    1              John Adams           Harvard\n",
    "\n",
    "    2        Thomas Jefferson  William and Mary\n",
    "\n",
    "    3           James Madison         Princeton\n",
    "\n",
    "    4            James Monroe  William and Mary\n",
    "\n",
    "    5       John Quincy Adams           Harvard\n",
    "\n",
    "    6          Andrew Jackson              None\n",
    "\n",
    "    7       Martin Van Buren               None\n",
    "\n",
    "    8  William Henry Harrison    Hampden-Sydney\n"
   ]
  },
  {
   "cell_type": "markdown",
   "metadata": {},
   "source": [
    "### [추후] 미국대통령 데이타셋을 분석하고 정보를 도출하여 출력(시각화 권장)"
   ]
  }
 ],
 "metadata": {
  "kernelspec": {
   "display_name": "Python 3",
   "language": "python",
   "name": "python3"
  },
  "language_info": {
   "codemirror_mode": {
    "name": "ipython",
    "version": 3
   },
   "file_extension": ".py",
   "mimetype": "text/x-python",
   "name": "python",
   "nbconvert_exporter": "python",
   "pygments_lexer": "ipython3",
   "version": "3.7.3"
  }
 },
 "nbformat": 4,
 "nbformat_minor": 2
}
