{
 "cells": [
  {
   "cell_type": "markdown",
   "metadata": {},
   "source": [
    "## [예제] 미국 대통령 당선 정보에서 정당 정보를 도출하여 시각하 하기\n",
    "\n",
    "\n",
    "### * 불러온 데이타집합의 정보 확인하기\n",
    "\n",
    "- type(df)  : 데이타 타입\n",
    "- df.shape  : 행과 열의 수\n",
    "- df.columns : 컬럼명 확인\n",
    "- df.dtypes : 각각의 컬럼 데이타타입\n",
    "- df.info() : df.dtypes 비슷\n",
    "- df.info\n",
    "- df.head()\n",
    "- df.tail()\n",
    "\n",
    "\n",
    "### 파이썬과 판다스 자료형 비교\n",
    "    int         int64\n",
    "    float       float64\n",
    "    string      object(****)\n",
    "\n",
    "###  당선된 각 정당(Political Party) 수를 먼저 구해야 한다\n",
    "\n",
    "- value_counts() 이용\n",
    "\n",
    "### [연습] 데이타셋에서 다른 인사이트를 도출하여 시각화하기\n",
    "\n"
   ]
  },
  {
   "cell_type": "code",
   "execution_count": 1,
   "metadata": {},
   "outputs": [],
   "source": [
    "import pandas as pd"
   ]
  },
  {
   "cell_type": "code",
   "execution_count": 2,
   "metadata": {},
   "outputs": [],
   "source": [
    "df = pd.read_excel('http://qrc.depaul.edu/excel_files/presidents.xlsx')"
   ]
  },
  {
   "cell_type": "code",
   "execution_count": null,
   "metadata": {},
   "outputs": [],
   "source": [
    "###  [참고] 웹에서 제공하는 데이타를 다운로드하기 \n",
    "\n",
    "# import urllib.request as req\n",
    "\n",
    "# local = './data/president/presidents.xlsx'  # data폴더 밑에 president 폴더가 있어야 한다\n",
    "# url = 'http://qrc.depaul.edu/excel_files/presidents.xlsx'\n",
    "# req.urlretrieve(url,local)\n",
    "# print('다운로드 완료')\n"
   ]
  },
  {
   "cell_type": "markdown",
   "metadata": {},
   "source": [
    "####  데이타 정보 확인하기\n",
    "\n",
    "- print(type(df))  # 데이타 타입\n",
    "- print(df.shape) # 행과 열의 수\n",
    "- print(df.columns) # 컬럼명 확인\n",
    "- print(df.dtypes) # 각각의 컬럼 데이타타입\n",
    "- print(df.info()) # df.dtypes 비슷\n",
    "- print(df.info) # 전체적인 내용을???\n",
    "- print(df.head())\n",
    "- print(df.tail())\n"
   ]
  },
  {
   "cell_type": "markdown",
   "metadata": {},
   "source": [
    "### * 인사이트를 도출하여 정보를 추출하고 시각화"
   ]
  }
 ],
 "metadata": {
  "kernelspec": {
   "display_name": "Python 3",
   "language": "python",
   "name": "python3"
  },
  "language_info": {
   "codemirror_mode": {
    "name": "ipython",
    "version": 3
   },
   "file_extension": ".py",
   "mimetype": "text/x-python",
   "name": "python",
   "nbconvert_exporter": "python",
   "pygments_lexer": "ipython3",
   "version": "3.7.6"
  }
 },
 "nbformat": 4,
 "nbformat_minor": 2
}
