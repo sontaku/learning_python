{
 "cells": [
  {
   "cell_type": "markdown",
   "metadata": {},
   "source": [
    " ## 미국 대통령 신장(키) 데이타를 분석 \n",
    " \n",
    " \n",
    "        ` 전체적인 기본 통계량\n",
    "        ` 평균신장\n",
    "        ` 그래프로 시각화"
   ]
  },
  {
   "cell_type": "code",
   "execution_count": 2,
   "metadata": {},
   "outputs": [
    {
     "data": {
      "text/plain": "pandas.core.frame.DataFrame"
     },
     "execution_count": 2,
     "metadata": {},
     "output_type": "execute_result"
    }
   ],
   "source": [
    "import pandas as pd\n",
    "\n",
    "data = pd.read_csv('data/president_heights.csv')\n",
    "type(data)\n",
    "\n",
    "data"
   ]
  },
  {
   "cell_type": "code",
   "execution_count": 3,
   "outputs": [
    {
     "name": "stdout",
     "output_type": "stream",
     "text": [
      "<class 'pandas.core.frame.DataFrame'>\n",
      "RangeIndex: 42 entries, 0 to 41\n",
      "Data columns (total 3 columns):\n",
      " #   Column      Non-Null Count  Dtype \n",
      "---  ------      --------------  ----- \n",
      " 0   order       42 non-null     int64 \n",
      " 1   name        42 non-null     object\n",
      " 2   height(cm)  42 non-null     int64 \n",
      "dtypes: int64(2), object(1)\n",
      "memory usage: 1.1+ KB\n"
     ]
    }
   ],
   "source": [
    "data.info()"
   ],
   "metadata": {
    "collapsed": false,
    "pycharm": {
     "name": "#%%\n"
    }
   }
  },
  {
   "cell_type": "code",
   "execution_count": 22,
   "outputs": [
    {
     "data": {
      "text/plain": "order      22.0\nheight    182.0\ndtype: float64"
     },
     "execution_count": 22,
     "metadata": {},
     "output_type": "execute_result"
    }
   ],
   "source": [
    "data.mean()\n",
    "data.min()\n",
    "data.max()\n",
    "data.median()"
   ],
   "metadata": {
    "collapsed": false,
    "pycharm": {
     "name": "#%%\n"
    }
   }
  },
  {
   "cell_type": "code",
   "execution_count": 7,
   "outputs": [
    {
     "data": {
      "text/plain": "           order  height(cm)\ncount  42.000000   42.000000\nmean   22.476190  179.738095\nstd    13.152461    7.015869\nmin     1.000000  163.000000\n25%    11.250000  174.250000\n50%    22.000000  182.000000\n75%    33.750000  183.000000\nmax    44.000000  193.000000",
      "text/html": "<div>\n<style scoped>\n    .dataframe tbody tr th:only-of-type {\n        vertical-align: middle;\n    }\n\n    .dataframe tbody tr th {\n        vertical-align: top;\n    }\n\n    .dataframe thead th {\n        text-align: right;\n    }\n</style>\n<table border=\"1\" class=\"dataframe\">\n  <thead>\n    <tr style=\"text-align: right;\">\n      <th></th>\n      <th>order</th>\n      <th>height(cm)</th>\n    </tr>\n  </thead>\n  <tbody>\n    <tr>\n      <th>count</th>\n      <td>42.000000</td>\n      <td>42.000000</td>\n    </tr>\n    <tr>\n      <th>mean</th>\n      <td>22.476190</td>\n      <td>179.738095</td>\n    </tr>\n    <tr>\n      <th>std</th>\n      <td>13.152461</td>\n      <td>7.015869</td>\n    </tr>\n    <tr>\n      <th>min</th>\n      <td>1.000000</td>\n      <td>163.000000</td>\n    </tr>\n    <tr>\n      <th>25%</th>\n      <td>11.250000</td>\n      <td>174.250000</td>\n    </tr>\n    <tr>\n      <th>50%</th>\n      <td>22.000000</td>\n      <td>182.000000</td>\n    </tr>\n    <tr>\n      <th>75%</th>\n      <td>33.750000</td>\n      <td>183.000000</td>\n    </tr>\n    <tr>\n      <th>max</th>\n      <td>44.000000</td>\n      <td>193.000000</td>\n    </tr>\n  </tbody>\n</table>\n</div>"
     },
     "execution_count": 7,
     "metadata": {},
     "output_type": "execute_result"
    }
   ],
   "source": [
    "data.describe()"
   ],
   "metadata": {
    "collapsed": false,
    "pycharm": {
     "name": "#%%\n"
    }
   }
  },
  {
   "cell_type": "code",
   "execution_count": 9,
   "outputs": [
    {
     "data": {
      "text/plain": "    order                    name  height\n0       1       George Washington     189\n1       2              John Adams     170\n2       3        Thomas Jefferson     189\n3       4           James Madison     163\n4       5            James Monroe     183\n5       6       John Quincy Adams     171\n6       7          Andrew Jackson     185\n7       8        Martin Van Buren     168\n8       9  William Henry Harrison     173\n9      10              John Tyler     183\n10     11           James K. Polk     173\n11     12          Zachary Taylor     173\n12     13        Millard Fillmore     175\n13     14         Franklin Pierce     178\n14     15          James Buchanan     183\n15     16         Abraham Lincoln     193\n16     17          Andrew Johnson     178\n17     18        Ulysses S. Grant     173\n18     19     Rutherford B. Hayes     174\n19     20       James A. Garfield     183\n20     21       Chester A. Arthur     183\n21     23       Benjamin Harrison     168\n22     25        William McKinley     170\n23     26      Theodore Roosevelt     178\n24     27     William Howard Taft     182\n25     28          Woodrow Wilson     180\n26     29       Warren G. Harding     183\n27     30         Calvin Coolidge     178\n28     31          Herbert Hoover     182\n29     32   Franklin D. Roosevelt     188\n30     33         Harry S. Truman     175\n31     34    Dwight D. Eisenhower     179\n32     35         John F. Kennedy     183\n33     36       Lyndon B. Johnson     193\n34     37           Richard Nixon     182\n35     38             Gerald Ford     183\n36     39            Jimmy Carter     177\n37     40           Ronald Reagan     185\n38     41       George H. W. Bush     188\n39     42            Bill Clinton     188\n40     43          George W. Bush     182\n41     44            Barack Obama     185",
      "text/html": "<div>\n<style scoped>\n    .dataframe tbody tr th:only-of-type {\n        vertical-align: middle;\n    }\n\n    .dataframe tbody tr th {\n        vertical-align: top;\n    }\n\n    .dataframe thead th {\n        text-align: right;\n    }\n</style>\n<table border=\"1\" class=\"dataframe\">\n  <thead>\n    <tr style=\"text-align: right;\">\n      <th></th>\n      <th>order</th>\n      <th>name</th>\n      <th>height</th>\n    </tr>\n  </thead>\n  <tbody>\n    <tr>\n      <th>0</th>\n      <td>1</td>\n      <td>George Washington</td>\n      <td>189</td>\n    </tr>\n    <tr>\n      <th>1</th>\n      <td>2</td>\n      <td>John Adams</td>\n      <td>170</td>\n    </tr>\n    <tr>\n      <th>2</th>\n      <td>3</td>\n      <td>Thomas Jefferson</td>\n      <td>189</td>\n    </tr>\n    <tr>\n      <th>3</th>\n      <td>4</td>\n      <td>James Madison</td>\n      <td>163</td>\n    </tr>\n    <tr>\n      <th>4</th>\n      <td>5</td>\n      <td>James Monroe</td>\n      <td>183</td>\n    </tr>\n    <tr>\n      <th>5</th>\n      <td>6</td>\n      <td>John Quincy Adams</td>\n      <td>171</td>\n    </tr>\n    <tr>\n      <th>6</th>\n      <td>7</td>\n      <td>Andrew Jackson</td>\n      <td>185</td>\n    </tr>\n    <tr>\n      <th>7</th>\n      <td>8</td>\n      <td>Martin Van Buren</td>\n      <td>168</td>\n    </tr>\n    <tr>\n      <th>8</th>\n      <td>9</td>\n      <td>William Henry Harrison</td>\n      <td>173</td>\n    </tr>\n    <tr>\n      <th>9</th>\n      <td>10</td>\n      <td>John Tyler</td>\n      <td>183</td>\n    </tr>\n    <tr>\n      <th>10</th>\n      <td>11</td>\n      <td>James K. Polk</td>\n      <td>173</td>\n    </tr>\n    <tr>\n      <th>11</th>\n      <td>12</td>\n      <td>Zachary Taylor</td>\n      <td>173</td>\n    </tr>\n    <tr>\n      <th>12</th>\n      <td>13</td>\n      <td>Millard Fillmore</td>\n      <td>175</td>\n    </tr>\n    <tr>\n      <th>13</th>\n      <td>14</td>\n      <td>Franklin Pierce</td>\n      <td>178</td>\n    </tr>\n    <tr>\n      <th>14</th>\n      <td>15</td>\n      <td>James Buchanan</td>\n      <td>183</td>\n    </tr>\n    <tr>\n      <th>15</th>\n      <td>16</td>\n      <td>Abraham Lincoln</td>\n      <td>193</td>\n    </tr>\n    <tr>\n      <th>16</th>\n      <td>17</td>\n      <td>Andrew Johnson</td>\n      <td>178</td>\n    </tr>\n    <tr>\n      <th>17</th>\n      <td>18</td>\n      <td>Ulysses S. Grant</td>\n      <td>173</td>\n    </tr>\n    <tr>\n      <th>18</th>\n      <td>19</td>\n      <td>Rutherford B. Hayes</td>\n      <td>174</td>\n    </tr>\n    <tr>\n      <th>19</th>\n      <td>20</td>\n      <td>James A. Garfield</td>\n      <td>183</td>\n    </tr>\n    <tr>\n      <th>20</th>\n      <td>21</td>\n      <td>Chester A. Arthur</td>\n      <td>183</td>\n    </tr>\n    <tr>\n      <th>21</th>\n      <td>23</td>\n      <td>Benjamin Harrison</td>\n      <td>168</td>\n    </tr>\n    <tr>\n      <th>22</th>\n      <td>25</td>\n      <td>William McKinley</td>\n      <td>170</td>\n    </tr>\n    <tr>\n      <th>23</th>\n      <td>26</td>\n      <td>Theodore Roosevelt</td>\n      <td>178</td>\n    </tr>\n    <tr>\n      <th>24</th>\n      <td>27</td>\n      <td>William Howard Taft</td>\n      <td>182</td>\n    </tr>\n    <tr>\n      <th>25</th>\n      <td>28</td>\n      <td>Woodrow Wilson</td>\n      <td>180</td>\n    </tr>\n    <tr>\n      <th>26</th>\n      <td>29</td>\n      <td>Warren G. Harding</td>\n      <td>183</td>\n    </tr>\n    <tr>\n      <th>27</th>\n      <td>30</td>\n      <td>Calvin Coolidge</td>\n      <td>178</td>\n    </tr>\n    <tr>\n      <th>28</th>\n      <td>31</td>\n      <td>Herbert Hoover</td>\n      <td>182</td>\n    </tr>\n    <tr>\n      <th>29</th>\n      <td>32</td>\n      <td>Franklin D. Roosevelt</td>\n      <td>188</td>\n    </tr>\n    <tr>\n      <th>30</th>\n      <td>33</td>\n      <td>Harry S. Truman</td>\n      <td>175</td>\n    </tr>\n    <tr>\n      <th>31</th>\n      <td>34</td>\n      <td>Dwight D. Eisenhower</td>\n      <td>179</td>\n    </tr>\n    <tr>\n      <th>32</th>\n      <td>35</td>\n      <td>John F. Kennedy</td>\n      <td>183</td>\n    </tr>\n    <tr>\n      <th>33</th>\n      <td>36</td>\n      <td>Lyndon B. Johnson</td>\n      <td>193</td>\n    </tr>\n    <tr>\n      <th>34</th>\n      <td>37</td>\n      <td>Richard Nixon</td>\n      <td>182</td>\n    </tr>\n    <tr>\n      <th>35</th>\n      <td>38</td>\n      <td>Gerald Ford</td>\n      <td>183</td>\n    </tr>\n    <tr>\n      <th>36</th>\n      <td>39</td>\n      <td>Jimmy Carter</td>\n      <td>177</td>\n    </tr>\n    <tr>\n      <th>37</th>\n      <td>40</td>\n      <td>Ronald Reagan</td>\n      <td>185</td>\n    </tr>\n    <tr>\n      <th>38</th>\n      <td>41</td>\n      <td>George H. W. Bush</td>\n      <td>188</td>\n    </tr>\n    <tr>\n      <th>39</th>\n      <td>42</td>\n      <td>Bill Clinton</td>\n      <td>188</td>\n    </tr>\n    <tr>\n      <th>40</th>\n      <td>43</td>\n      <td>George W. Bush</td>\n      <td>182</td>\n    </tr>\n    <tr>\n      <th>41</th>\n      <td>44</td>\n      <td>Barack Obama</td>\n      <td>185</td>\n    </tr>\n  </tbody>\n</table>\n</div>"
     },
     "execution_count": 9,
     "metadata": {},
     "output_type": "execute_result"
    }
   ],
   "source": [
    "# 데이터 컬럼명 지정\n",
    "data.columns = ['order', 'name','height']\n",
    "data"
   ],
   "metadata": {
    "collapsed": false,
    "pycharm": {
     "name": "#%%\n"
    }
   }
  },
  {
   "cell_type": "code",
   "execution_count": 14,
   "outputs": [
    {
     "data": {
      "text/plain": "179.73809523809524"
     },
     "execution_count": 14,
     "metadata": {},
     "output_type": "execute_result"
    }
   ],
   "source": [
    "# 평균 키\n",
    "# data['height'].mean()\n",
    "data.height.mean()"
   ],
   "metadata": {
    "collapsed": false,
    "pycharm": {
     "name": "#%%\n"
    }
   }
  },
  {
   "cell_type": "markdown",
   "source": [
    "## 시각화\n",
    "1. DataFrame / Series의 함수\n",
    "2. matplotlib 라이브러리\n",
    "3. seaborn 라이브러리\n"
   ],
   "metadata": {
    "collapsed": false
   }
  },
  {
   "cell_type": "code",
   "execution_count": 18,
   "outputs": [
    {
     "data": {
      "text/plain": "<AxesSubplot:ylabel='Frequency'>"
     },
     "execution_count": 18,
     "metadata": {},
     "output_type": "execute_result"
    },
    {
     "data": {
      "text/plain": "<Figure size 432x288 with 1 Axes>",
      "image/png": "[encoded data removed]"
     },
     "metadata": {
      "needs_background": "light"
     },
     "output_type": "display_data"
    }
   ],
   "source": [
    "# 시각화 -> 분석\n",
    "# 판다스 내부함수 이용\n",
    "# data.plot(kind = 'hist')\n",
    "data['height'].plot(kind = 'hist')"
   ],
   "metadata": {
    "collapsed": false,
    "pycharm": {
     "name": "#%%\n"
    }
   }
  },
  {
   "cell_type": "code",
   "execution_count": 21,
   "outputs": [
    {
     "data": {
      "text/plain": "(array([[20., 19.,  3.,  0.,  0.,  0.,  0.,  0.,  0.,  0.],\n        [ 0.,  0.,  0.,  0.,  0.,  0.,  0.,  0., 10., 32.]]),\n array([0.0, 19.3, 38.6, 57.900000000000006, 77.2, 96.5,\n        115.80000000000001, 135.1, 154.4, 173.70000000000002, 193.0],\n       dtype=object),\n <a list of 2 BarContainer objects>)"
     },
     "execution_count": 21,
     "metadata": {},
     "output_type": "execute_result"
    },
    {
     "data": {
      "text/plain": "<Figure size 432x288 with 1 Axes>",
      "image/png": "[encoded data removed]"
     },
     "metadata": {
      "needs_background": "light"
     },
     "output_type": "display_data"
    }
   ],
   "source": [
    "# matplotlib 라이브러리\n",
    "import matplotlib.pyplot as plt\n",
    "plt.hist(data['height'])"
   ],
   "metadata": {
    "collapsed": false,
    "pycharm": {
     "name": "#%%\n"
    }
   }
  }
 ],
 "metadata": {
  "kernelspec": {
   "display_name": "Python 3",
   "language": "python",
   "name": "python3"
  },
  "language_info": {
   "codemirror_mode": {
    "name": "ipython",
    "version": 3
   },
   "file_extension": ".py",
   "mimetype": "text/x-python",
   "name": "python",
   "nbconvert_exporter": "python",
   "pygments_lexer": "ipython3",
   "version": "3.8.5"
  }
 },
 "nbformat": 4,
 "nbformat_minor": 2
}