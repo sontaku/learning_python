{
 "cells": [
  {
   "cell_type": "markdown",
   "metadata": {},
   "source": [
    "##  - 파이썬3.6으로 가상환경을 만들기\n",
    "\n",
    "1. Anaconda나 Miniconda 설치 후 Anaconda Prompt 실행\n",
    "\n",
    "2. 버전확인\n",
    "    >conda -V\n",
    "\n",
    "3. conda 업데이트\n",
    "    >conda update -n base -c defaults conda\n",
    "\n",
    "4. 가상환경 만들기 (가상환경이름: study36)\n",
    "    >conda create -n study36 python=3.6\n",
    "\n",
    "5. 가상환경 목록 보기\n",
    "    >conda env list\n",
    "\n",
    "6. 가상환경 실행\n",
    "    >conda activate study36\n",
    "    \n",
    "    *  base                     C:\\ProgramData\\Anaconda3\n",
    "    * study36               *  C:\\Users\\kimsi\\.conda\\envs\\study36\n",
    "\n",
    "    현재 환경에는 *가 붙어있다\n",
    "    \n",
    "\n",
    "7. 파이썬 버전 확인\n",
    "\n",
    "    >python -V\n",
    "    >python --version\n",
    "    >pip -V\n",
    "\n",
    "\n",
    "8. 주피터 추가 설치 ( study36 환경에서 설치 )\n",
    "\n",
    "    >pip install jupyter\n",
    "    \n",
    "    \n",
    "8. 주피터 실행\n",
    "\n",
    "    >jupyter notebook\n"
   ]
  },
  {
   "cell_type": "markdown",
   "metadata": {},
   "source": [
    "### 파이썬 3.6과 3.7 의 차이점\n",
    "\n",
    "파이썬 3.7을 새로 나오면 아직 모듈들이 아직 3.7을 다 맞추지 못했기 때문에 현재 2019.06임에도 3.6을 권장한단다고 한다"
   ]
  },
  {
   "cell_type": "markdown",
   "metadata": {},
   "source": [
    "[참고] 브라우저는 크롬을 권장\n",
    "\n",
    "    - 지도를 출력하는 folium이 크롬에서 잘 출력되기 때문에\n",
    "    \n",
    "\n",
    "* 한 셀을 실행 : shfit + enter"
   ]
  },
  {
   "cell_type": "code",
   "execution_count": null,
   "metadata": {},
   "outputs": [],
   "source": []
  },
  {
   "cell_type": "code",
   "execution_count": 3,
   "metadata": {},
   "outputs": [],
   "source": [
    "s1?  # shift + enter로 실행하면 도움말이 출력된다"
   ]
  },
  {
   "cell_type": "code",
   "execution_count": 4,
   "metadata": {},
   "outputs": [],
   "source": [
    "?s1  # shift + enter : 위와 동일한 결과"
   ]
  },
  {
   "cell_type": "code",
   "execution_count": null,
   "metadata": {},
   "outputs": [],
   "source": [
    "s1   # shift + tab 은 간단하게 출력된다  -> 물론 [+] 버튼을 누르면 전체 도움말 확인 가능"
   ]
  },
  {
   "cell_type": "markdown",
   "metadata": {},
   "source": [
    "**타이핑 하면서 탭키를 누르면 완성된다**"
   ]
  },
  {
   "cell_type": "markdown",
   "metadata": {},
   "source": [
    "### 공부방식\n",
    "\n",
    "전반적으로 이해하는 것이 중요하다\n",
    "\n",
    "애매한 것들이 있으면 그것이 무엇인지만 인지하고 그 상황이 다시 반드시 오면 그 때 다시 확인하면서 공부하는 것을 권장한다"
   ]
  },
  {
   "cell_type": "code",
   "execution_count": null,
   "metadata": {},
   "outputs": [],
   "source": []
  },
  {
   "cell_type": "markdown",
   "metadata": {},
   "source": [
    "# 강사분 블로거\n",
    "\n",
    "https://pinkwink.kr  > 연재목록에서"
   ]
  },
  {
   "cell_type": "code",
   "execution_count": null,
   "metadata": {},
   "outputs": [],
   "source": []
  },
  {
   "cell_type": "code",
   "execution_count": null,
   "metadata": {},
   "outputs": [],
   "source": []
  }
 ],
 "metadata": {
  "kernelspec": {
   "display_name": "Python 3",
   "language": "python",
   "name": "python3"
  },
  "language_info": {
   "codemirror_mode": {
    "name": "ipython",
    "version": 3
   },
   "file_extension": ".py",
   "mimetype": "text/x-python",
   "name": "python",
   "nbconvert_exporter": "python",
   "pygments_lexer": "ipython3",
   "version": "3.7.3"
  }
 },
 "nbformat": 4,
 "nbformat_minor": 2
}
