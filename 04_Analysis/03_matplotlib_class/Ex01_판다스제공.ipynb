{
 "cells": [
  {
   "cell_type": "markdown",
   "metadata": {},
   "source": [
    "### 1. Series 의 plot()"
   ]
  },
  {
   "cell_type": "code",
   "execution_count": 1,
   "metadata": {},
   "outputs": [],
   "source": [
    "%matplotlib inline"
   ]
  },
  {
   "cell_type": "code",
   "execution_count": 2,
   "metadata": {},
   "outputs": [],
   "source": [
    "from pandas import Series\n",
    "\n",
    "import matplotlib.pyplot as plt\n",
    "from matplotlib import font_manager, rc\n",
    "\n",
    "plt.rcParams['axes.unicode_minus']=False  # 추가설정 : 폰트를 변경하면 -표시가 ㅁ으로 변경되기에 '-'를 변경하지 않도록 지정\n",
    "rc('font', family='Malgun Gothic')"
   ]
  },
  {
   "cell_type": "code",
   "execution_count": 6,
   "metadata": {},
   "outputs": [
    {
     "data": {
      "text/plain": [
       "Text(0.5, 1.0, '우리차트')"
      ]
     },
     "execution_count": 6,
     "metadata": {},
     "output_type": "execute_result"
    },
    {
     "data": {
      "image/png": "[encoded data removed]",
      "text/plain": [
       "<Figure size 432x288 with 1 Axes>"
      ]
     },
     "metadata": {
      "needs_background": "light"
     },
     "output_type": "display_data"
    }
   ],
   "source": [
    "# 판다스 그래프 : Series의 plot() \n",
    "s=Series([1.5, 2.3, 0.9], index=['no1','no2','no3'])\n",
    "s\n",
    "s_bar = s.plot.bar()\n",
    "s_bar\n",
    "s_bar.set_xlabel('데이터')\n",
    "s_bar.set_ylabel('값')\n",
    "s_bar.set_title('우리차트')"
   ]
  },
  {
   "cell_type": "markdown",
   "metadata": {},
   "source": [
    "#### 위의 판다스 제공 그래프와 matplotlib 그래프 비교"
   ]
  },
  {
   "cell_type": "code",
   "execution_count": 4,
   "metadata": {},
   "outputs": [],
   "source": [
    "s=Series([1.5, 2.3, 0.9], index=['no1','no2','no3'])\n",
    "\n"
   ]
  },
  {
   "cell_type": "markdown",
   "metadata": {},
   "source": [
    "## 2. DataFrame 그래프"
   ]
  },
  {
   "cell_type": "code",
   "execution_count": 10,
   "metadata": {},
   "outputs": [
    {
     "data": {
      "text/html": [
       "<div>\n",
       "<style scoped>\n",
       "    .dataframe tbody tr th:only-of-type {\n",
       "        vertical-align: middle;\n",
       "    }\n",
       "\n",
       "    .dataframe tbody tr th {\n",
       "        vertical-align: top;\n",
       "    }\n",
       "\n",
       "    .dataframe thead th {\n",
       "        text-align: right;\n",
       "    }\n",
       "</style>\n",
       "<table border=\"1\" class=\"dataframe\">\n",
       "  <thead>\n",
       "    <tr style=\"text-align: right;\">\n",
       "      <th></th>\n",
       "      <th>level</th>\n",
       "      <th>step</th>\n",
       "      <th>cnt</th>\n",
       "      <th>temp</th>\n",
       "    </tr>\n",
       "  </thead>\n",
       "  <tbody>\n",
       "    <tr>\n",
       "      <th>0</th>\n",
       "      <td>-2.483498</td>\n",
       "      <td>-0.085276</td>\n",
       "      <td>-1.306374</td>\n",
       "      <td>-0.232299</td>\n",
       "    </tr>\n",
       "    <tr>\n",
       "      <th>10</th>\n",
       "      <td>1.014990</td>\n",
       "      <td>0.931648</td>\n",
       "      <td>-0.405651</td>\n",
       "      <td>-0.902372</td>\n",
       "    </tr>\n",
       "    <tr>\n",
       "      <th>20</th>\n",
       "      <td>-0.396531</td>\n",
       "      <td>-0.828213</td>\n",
       "      <td>0.485354</td>\n",
       "      <td>0.409384</td>\n",
       "    </tr>\n",
       "    <tr>\n",
       "      <th>30</th>\n",
       "      <td>0.884098</td>\n",
       "      <td>-1.035586</td>\n",
       "      <td>0.329912</td>\n",
       "      <td>-0.809100</td>\n",
       "    </tr>\n",
       "    <tr>\n",
       "      <th>40</th>\n",
       "      <td>0.166726</td>\n",
       "      <td>0.624775</td>\n",
       "      <td>-0.409041</td>\n",
       "      <td>0.434824</td>\n",
       "    </tr>\n",
       "    <tr>\n",
       "      <th>50</th>\n",
       "      <td>0.712224</td>\n",
       "      <td>1.467033</td>\n",
       "      <td>-1.042842</td>\n",
       "      <td>1.556864</td>\n",
       "    </tr>\n",
       "    <tr>\n",
       "      <th>60</th>\n",
       "      <td>1.849988</td>\n",
       "      <td>-0.735527</td>\n",
       "      <td>0.271812</td>\n",
       "      <td>-0.250297</td>\n",
       "    </tr>\n",
       "    <tr>\n",
       "      <th>70</th>\n",
       "      <td>-0.051027</td>\n",
       "      <td>-0.442981</td>\n",
       "      <td>0.231138</td>\n",
       "      <td>0.991308</td>\n",
       "    </tr>\n",
       "    <tr>\n",
       "      <th>80</th>\n",
       "      <td>1.988148</td>\n",
       "      <td>-1.791673</td>\n",
       "      <td>-0.967277</td>\n",
       "      <td>1.802808</td>\n",
       "    </tr>\n",
       "    <tr>\n",
       "      <th>90</th>\n",
       "      <td>-0.494398</td>\n",
       "      <td>-0.515692</td>\n",
       "      <td>-0.136809</td>\n",
       "      <td>-0.621652</td>\n",
       "    </tr>\n",
       "  </tbody>\n",
       "</table>\n",
       "</div>"
      ],
      "text/plain": [
       "       level      step       cnt      temp\n",
       "0  -2.483498 -0.085276 -1.306374 -0.232299\n",
       "10  1.014990  0.931648 -0.405651 -0.902372\n",
       "20 -0.396531 -0.828213  0.485354  0.409384\n",
       "30  0.884098 -1.035586  0.329912 -0.809100\n",
       "40  0.166726  0.624775 -0.409041  0.434824\n",
       "50  0.712224  1.467033 -1.042842  1.556864\n",
       "60  1.849988 -0.735527  0.271812 -0.250297\n",
       "70 -0.051027 -0.442981  0.231138  0.991308\n",
       "80  1.988148 -1.791673 -0.967277  1.802808\n",
       "90 -0.494398 -0.515692 -0.136809 -0.621652"
      ]
     },
     "execution_count": 10,
     "metadata": {},
     "output_type": "execute_result"
    }
   ],
   "source": [
    "from pandas import DataFrame\n",
    "import numpy as np\n",
    "\n",
    "# 데이타프레임에서 시각화 작업\n",
    "df=DataFrame(np.random.randn(10, 4),    # 난수 10개를 4번\n",
    "             columns=['level','step','cnt','temp'], \n",
    "             index=np.arange(0,100,10))     # np.arange(0,100,10)\n",
    "df"
   ]
  },
  {
   "cell_type": "code",
   "execution_count": 9,
   "metadata": {},
   "outputs": [
    {
     "data": {
      "text/plain": [
       "Text(0.5, 0, '값')"
      ]
     },
     "execution_count": 9,
     "metadata": {},
     "output_type": "execute_result"
    },
    {
     "data": {
      "image/png": "[encoded data removed]",
      "text/plain": [
       "<Figure size 432x288 with 1 Axes>"
      ]
     },
     "metadata": {
      "needs_background": "light"
     },
     "output_type": "display_data"
    }
   ],
   "source": [
    "df_chart = df.plot()\n",
    "df_chart.set_xlabel('값')"
   ]
  },
  {
   "cell_type": "code",
   "execution_count": null,
   "metadata": {},
   "outputs": [],
   "source": []
  },
  {
   "cell_type": "markdown",
   "metadata": {},
   "source": [
    "[참고] 데이타사이언스스쿨 > Pandas의 시각화 기능\n",
    "\n",
    "https://datascienceschool.net/view-notebook/372443a5d90a46429c6459bba8b4342c/"
   ]
  }
 ],
 "metadata": {
  "kernelspec": {
   "display_name": "Python 3",
   "language": "python",
   "name": "python3"
  },
  "language_info": {
   "codemirror_mode": {
    "name": "ipython",
    "version": 3
   },
   "file_extension": ".py",
   "mimetype": "text/x-python",
   "name": "python",
   "nbconvert_exporter": "python",
   "pygments_lexer": "ipython3",
   "version": "3.8.5"
  }
 },
 "nbformat": 4,
 "nbformat_minor": 2
}
