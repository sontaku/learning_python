{
 "cells": [
  {
   "cell_type": "markdown",
   "metadata": {},
   "source": [
    "### 1. 산점도 그래프\n",
    "\n",
    "   (1) matplotlib의 subplots()로 기본 틀 만들고 seaborn의 그래프 함수 이용\n",
    "    \n",
    "    회귀선 제거 : fit_reg=False\n",
    "     axes = sb.regplot(x='total_bill', y='tip', data=tips, fit_reg=False)\n",
    "     \n",
    "     [예] 지불 금액과 팁에 대한 그래프\n",
    "     \n",
    "     \n",
    "   (2) 산점도와 히스토그램을 한번에 - jointplot()\n",
    "  \n",
    "      ` 산점도 그래프의 데이타를 육각(hexbin)으로 구분 : kind='hex'속성\n",
    "          ( 개수가 많아지면 진한 색으로 표시 )\n",
    "          axes = sb.jointplot(x='total_bill', y='tip', data=tips, kind='hex')\n",
    "\n",
    "\n",
    "\n",
    "###  2. 이차원 밀집도 그래프 (등고선그래프) - kdeplot()\n",
    "\n",
    "\n",
    "###  3. 막대그래프 - barplot()\n",
    " \n",
    "     * 이산형 데이타(명목데이타)\n",
    "     \n",
    "     [예] 시간대에 따라 지불한 비용의 평균 그래프\n",
    "     \n",
    "\n",
    "###  4. 박스그래프 - boxplot() \n",
    "     : 최소값, 4분위수, 평균값, 이상치 등의 통계량을 한번에 표현하는 그래프\n",
    "     \n",
    "     - 1분위수와 3분위수를 박스로 그려짐\n",
    "     - 박스 내부의 선은 중앙값이다 (평균값이 아님)\n",
    "     - 박수 외부의 선은 최솟값과 최댓값인데\n",
    "         ` 최솟값 : 1분위수 - ( IQR * 1.5 )\n",
    "         ` 최댓값 : 3분위수 + ( IQR * 1.5 )\n",
    "         ` IQR = 3분위수 - 1분위수\n",
    "     - 선 밖의 점은 outlier로 결측치이다\n",
    "     \n",
    "     \n",
    "###  5. 바이올린 그래프 - violinplot()\n",
    "     : 박스 그래스는 통계 수치를 확인하기 위해 자주 사용되지만 데이터 분산이 모호하기에 \n",
    "       박스 그래스에 커널 밀도를 표현한 그래프     \n",
    "       \n",
    "       \n",
    "###  6. 관계 그래프 - pairplot()\n",
    " \n",
    "    [그래프 분석]\n",
    "    1. 데이타셋에서 연속형 데이타로 된 컬럼\n",
    "    2. 동일 컬럼인경우 즉 하나의 변수이기에 히스토그램으로 나옴\n",
    "    3. 다른 변수와의 결합은 이차원 그래프로 산점도 그래프로 나옴\n",
    "    4. 대각선으로는 동일한 결과        "
   ]
  },
  {
   "cell_type": "code",
   "execution_count": 1,
   "metadata": {},
   "outputs": [],
   "source": [
    "import matplotlib.pyplot as plt\n",
    "import seaborn as sns\n",
    "\n",
    "tips = sns.load_dataset('tips')"
   ]
  },
  {
   "cell_type": "markdown",
   "metadata": {},
   "source": [
    "## 1. 산점도 그래프\n",
    "\n",
    "### (1) matplotlib의 subplots()로 기본 틀 만들고 seaborn의 그래프 함수 이용\n",
    "    \n",
    "    회귀선 제거 : fit_reg=False\n",
    "     axes = sb.regplot(x='total_bill', y='tip', data=tips, fit_reg=False)\n",
    "     \n",
    "     [예] 지불 금액과 팁에 대한 그래프"
   ]
  },
  {
   "cell_type": "code",
   "execution_count": null,
   "metadata": {},
   "outputs": [],
   "source": []
  },
  {
   "cell_type": "markdown",
   "metadata": {},
   "source": [
    "###    (2) 산점도와 히스토그램을 한번에 - jointplot()\n",
    "  \n",
    "      ` 산점도 그래프의 데이타를 육각(hexbin)으로 구분 : kind='hex'속성\n",
    "          ( 개수가 많아지면 진한 색으로 표시 )\n",
    "          axes = sb.jointplot(x='total_bill', y='tip', data=tips, kind='hex')"
   ]
  },
  {
   "cell_type": "code",
   "execution_count": null,
   "metadata": {},
   "outputs": [],
   "source": [
    "\n"
   ]
  },
  {
   "cell_type": "markdown",
   "metadata": {},
   "source": [
    "##  2. 이차원 밀집도 그래프 (등고선그래프) - kdeplot()\n",
    "\n",
    "    [참고] 함수의 도움말 : 함수에 커서 놓고 ctrl + tab"
   ]
  },
  {
   "cell_type": "code",
   "execution_count": null,
   "metadata": {},
   "outputs": [],
   "source": []
  },
  {
   "cell_type": "markdown",
   "metadata": {},
   "source": [
    "##  3. 막대그래프 - barplot()\n",
    " \n",
    "     * 이산형 데이타(명목데이타)\n",
    "     \n",
    "     [예] 시간에 따란 비불한 비용의 평균 그래프"
   ]
  },
  {
   "cell_type": "code",
   "execution_count": null,
   "metadata": {},
   "outputs": [],
   "source": [
    "\n"
   ]
  },
  {
   "cell_type": "markdown",
   "metadata": {},
   "source": [
    "##  4. 박스그래프 - boxplot() \n",
    "     : 최소값, 4분위수, 평균값, 이상치 등의 통계량을 한번에 표현하는 그래프\n",
    "     \n",
    "     - 1분위수와 3분위수를 박스로 그려짐\n",
    "     - 박스 내부의 선은 중앙값이다 (평균값이 아님)\n",
    "     - 박수 외부의 선은 최솟값과 최댓값인데\n",
    "         ` 최솟값 : 1분위수 - ( IQR * 1.5 )\n",
    "         ` 최댓값 : 3분위수 + ( IQR * 1.5 )\n",
    "         ` IQR = 3분위수 - 1분위수\n",
    "     - 선 밖의 점은 outlier로 결측치이다"
   ]
  },
  {
   "cell_type": "markdown",
   "metadata": {},
   "source": [
    "<img src=\"https://i.imgur.com/CnFsXL9.png\" width=450>"
   ]
  },
  {
   "cell_type": "code",
   "execution_count": null,
   "metadata": {
    "scrolled": true
   },
   "outputs": [],
   "source": [
    "\n"
   ]
  },
  {
   "cell_type": "markdown",
   "metadata": {},
   "source": [
    "##  5. 바이올린 그래프 - violinplot()\n",
    "     : 박스 그래스는 통계 수치를 확인하기 위해 자주 사용되지만 데이터 분산이 모호하기에 \n",
    "       박스 그래스에 커널 밀도를 표현한 그래프"
   ]
  },
  {
   "cell_type": "code",
   "execution_count": null,
   "metadata": {},
   "outputs": [],
   "source": [
    "\n",
    "\n"
   ]
  },
  {
   "cell_type": "markdown",
   "metadata": {},
   "source": [
    "##  6. 관계 그래프 - pairplot()\n",
    " \n",
    "    [그래프 분석]\n",
    "    1. 데이타셋에서 연속형 데이타로 된 컬럼\n",
    "    2. 동일 컬럼인경우 즉 하나의 변수이기에 히스토그램으로 나옴\n",
    "    3. 다른 변수와의 결합은 이차원 그래프로 산점도 그래프로 나옴\n",
    "    4. 대각선으로는 동일한 결과    "
   ]
  },
  {
   "cell_type": "code",
   "execution_count": null,
   "metadata": {},
   "outputs": [],
   "source": [
    "\n"
   ]
  },
  {
   "cell_type": "code",
   "execution_count": null,
   "metadata": {},
   "outputs": [],
   "source": []
  }
 ],
 "metadata": {
  "kernelspec": {
   "display_name": "Python 3",
   "language": "python",
   "name": "python3"
  },
  "language_info": {
   "codemirror_mode": {
    "name": "ipython",
    "version": 3
   },
   "file_extension": ".py",
   "mimetype": "text/x-python",
   "name": "python",
   "nbconvert_exporter": "python",
   "pygments_lexer": "ipython3",
   "version": "3.7.3"
  }
 },
 "nbformat": 4,
 "nbformat_minor": 2
}
