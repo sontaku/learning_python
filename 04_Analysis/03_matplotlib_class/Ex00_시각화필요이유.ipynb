{
 "cells": [
  {
   "cell_type": "markdown",
   "metadata": {},
   "source": [
    "이 페이지는 자세한 분석을 위한 페이지가 아닙니다.\n",
    "\n",
    "시각화를 해야하는 이유를 보여주기 위한 페이지입니다."
   ]
  },
  {
   "cell_type": "code",
   "execution_count": null,
   "metadata": {},
   "outputs": [],
   "source": [
    "# Frank Anscombe 이라는 사람의 사례\n",
    "\n",
    "import seaborn\n",
    "\n",
    "anscombe = seaborn.load_dataset('anscombe')\n",
    "anscombe"
   ]
  },
  {
   "cell_type": "code",
   "execution_count": null,
   "metadata": {},
   "outputs": [],
   "source": [
    "# dataset의 값이 I, II, III, IV 별로 추출\n",
    "dataset_1 = anscombe[ anscombe['dataset']=='I']\n",
    "dataset_2 = anscombe[ anscombe['dataset']=='II']\n",
    "dataset_3 = anscombe[ anscombe['dataset']=='III']\n",
    "dataset_4 = anscombe[ anscombe['dataset']=='IV']"
   ]
  },
  {
   "cell_type": "code",
   "execution_count": null,
   "metadata": {},
   "outputs": [],
   "source": [
    "# 각각의 dataset의 통계치 확인 - 평균, 분산 유사함\n",
    "\n",
    "# dataset_1.mean()\n",
    "x, y = dataset_1.mean()\n",
    "print('x={0} y={1}'.format(x, y))\n",
    "\n",
    "x, y = dataset_2.mean()\n",
    "print('x={0} y={1}'.format(x, y))\n",
    "\n",
    "x, y = dataset_3.mean()\n",
    "print('x={0} y={1}'.format(x, y))\n",
    "\n",
    "x, y = dataset_4.mean()\n",
    "print('x={0} y={1}'.format(x, y))\n",
    "\n",
    "x, y = dataset_1.var()\n",
    "print('x={0} y={1}'.format(x, y))\n",
    "\n",
    "x, y = dataset_2.var()\n",
    "print('x={0} y={1}'.format(x, y))\n",
    "\n",
    "x, y = dataset_3.var()\n",
    "print('x={0} y={1}'.format(x, y))\n",
    "\n",
    "x, y = dataset_4.var()\n",
    "print('x={0} y={1}'.format(x, y))\n"
   ]
  },
  {
   "cell_type": "code",
   "execution_count": null,
   "metadata": {
    "scrolled": true
   },
   "outputs": [],
   "source": [
    "# 시각화하기 - 하나씩 출력하여 데이타 구조가 다름을 확인 \n",
    "import matplotlib.pyplot as plt\n",
    "# plt.plot(dataset_1['x'], dataset_1['y'])\n",
    "# plt.plot(dataset_1['x'], dataset_1['y'], 'o')\n",
    "# plt.plot(dataset_2['x'], dataset_2['y'], 'o')\n",
    "# plt.plot(dataset_3['x'], dataset_3['y'], 'o')\n",
    "# plt.plot(dataset_4['x'], dataset_4['y'], 'o')\n",
    "\n",
    "# [결론] 평균, 분산 등의 수치가 같아도 그래프 형태로 확인하면 다른 데이타임을 알 수 있다\n",
    "# \n",
    "fig = plt.figure()  #  1-전체 그래프의 기본 틀\n",
    "axes1 = fig.add_subplot(2,2,1) # 2-그래프를 넣을 그래프 격자\n",
    "axes2 = fig.add_subplot(2,2,2)\n",
    "axes3 = fig.add_subplot(2,2,3)\n",
    "axes4 = fig.add_subplot(2,2,4)\n",
    "\n",
    "axes1.plot(dataset_1['x'], dataset_1['y'], 'o') # 3-격자에 그래프 추가\n",
    "axes2.plot(dataset_2['x'], dataset_2['y'], 'o')\n",
    "axes3.plot(dataset_3['x'], dataset_3['y'], 'o')\n",
    "axes4.plot(dataset_4['x'], dataset_4['y'], 'o')\n",
    "\n",
    "# 안나오면 fig 입력하여 확인"
   ]
  },
  {
   "cell_type": "code",
   "execution_count": null,
   "metadata": {},
   "outputs": [],
   "source": []
  },
  {
   "cell_type": "markdown",
   "metadata": {},
   "source": [
    "##  [참고] 데이타 분석과 통계활용법을 배워야 하는 이유\n",
    "\n",
    "### 나이팅게일의 로즈 다이어그램\n",
    "\n",
    "<img src='./images/Nightingale.jpg'>\n",
    "\n",
    "### 나폴레옹의 전투 지도로 본 병사 추이\n",
    "\n",
    "<img src='./images/Napoleon_map.png'/>\n",
    "        \n",
    "##### 그래프는 모르는 사람이 봐도 쉽게 이해할 수  있도록 하는 수단이다"
   ]
  },
  {
   "cell_type": "markdown",
   "metadata": {},
   "source": [
    "## <font color='red'>[중요]</font>\n",
    "### <font color='blue'>데이타를 분석하고 그 데이타에서 인사이트를 도출하여 그 결과를 알기 쉽게 시각화하는 것이지 이쁘게 하는 것이 시각화가 아니다</font>"
   ]
  }
 ],
 "metadata": {
  "kernelspec": {
   "display_name": "Python 3",
   "language": "python",
   "name": "python3"
  },
  "language_info": {
   "codemirror_mode": {
    "name": "ipython",
    "version": 3
   },
   "file_extension": ".py",
   "mimetype": "text/x-python",
   "name": "python",
   "nbconvert_exporter": "python",
   "pygments_lexer": "ipython3",
   "version": "3.7.6"
  }
 },
 "nbformat": 4,
 "nbformat_minor": 2
}
