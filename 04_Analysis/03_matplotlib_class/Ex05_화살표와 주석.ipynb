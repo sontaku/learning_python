{
 "cells": [
  {
   "cell_type": "markdown",
   "metadata": {},
   "source": [
    "#### 차트상에서 주석 처리하는 함수 : annotate(s, xy, xytext,  arrowprops, . . . )\n",
    "    + s: 주석\n",
    "    + xy : 화살표시작위치\n",
    "    + xytext : 주석 텍스트의 시작 위치\n",
    "    + arrowprops : 화살표의 속성들\n",
    "    \n",
    "\n",
    "[참고] Matplotlib에서 화살표를 그리는 것은 plt.arrow()가 있지만 사용하기 어렵다.\n",
    "    게다가 플롯의 사로 세로 비율이 바뀔 때마다 원하는 결과 얻기 어렵다.\n",
    "    plt.annotate() 함수 이용을 권장한다\n"
   ]
  },
  {
   "cell_type": "code",
   "execution_count": 14,
   "metadata": {},
   "outputs": [
    {
     "data": {
      "text/plain": [
       "Text(10, 4, 'important Point')"
      ]
     },
     "execution_count": 14,
     "metadata": {},
     "output_type": "execute_result"
    },
    {
     "data": {
      "image/png": "[encoded data removed]",
      "text/plain": [
       "<Figure size 432x288 with 1 Axes>"
      ]
     },
     "metadata": {
      "needs_background": "light"
     },
     "output_type": "display_data"
    }
   ],
   "source": [
    "%matplotlib inline\n",
    "\n",
    "import numpy as np\n",
    "import matplotlib.pyplot as plt \n",
    "\n",
    "fig, ax = plt.subplots()\n",
    "plt.plot( np.cos(np.linspace(0, 20, 100)))\n",
    "\n",
    "ax.axis('equal')\n",
    "\n",
    "ax.annotate(\"important Point\", xy=(5, -0.5), xytext=(10, 4), arrowprops=dict(facecolor='red', shrink=0.05))\n",
    "\n"
   ]
  }
 ],
 "metadata": {
  "kernelspec": {
   "display_name": "Python 3",
   "language": "python",
   "name": "python3"
  },
  "language_info": {
   "codemirror_mode": {
    "name": "ipython",
    "version": 3
   },
   "file_extension": ".py",
   "mimetype": "text/x-python",
   "name": "python",
   "nbconvert_exporter": "python",
   "pygments_lexer": "ipython3",
   "version": "3.8.5"
  }
 },
 "nbformat": 4,
 "nbformat_minor": 2
}
